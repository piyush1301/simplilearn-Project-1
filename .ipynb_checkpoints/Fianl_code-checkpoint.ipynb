{
 "cells": [
  {
   "cell_type": "markdown",
   "metadata": {},
   "source": [
    "# Code dependency"
   ]
  },
  {
   "cell_type": "code",
   "execution_count": 1,
   "metadata": {},
   "outputs": [],
   "source": [
    "import pandas as pd\n",
    "import numpy as np\n",
    "import matplotlib.pyplot as plt\n",
    "import seaborn as sns"
   ]
  },
  {
   "cell_type": "markdown",
   "metadata": {},
   "source": [
    "# \tImport the three datasets"
   ]
  },
  {
   "cell_type": "code",
   "execution_count": 2,
   "metadata": {},
   "outputs": [
    {
     "name": "stderr",
     "output_type": "stream",
     "text": [
      "C:\\Users\\piyus\\Anaconda3\\lib\\site-packages\\ipykernel_launcher.py:2: ParserWarning: Falling back to the 'python' engine because the 'c' engine does not support regex separators (separators > 1 char and different from '\\s+' are interpreted as regex); you can avoid this warning by specifying engine='python'.\n",
      "  \n",
      "C:\\Users\\piyus\\Anaconda3\\lib\\site-packages\\ipykernel_launcher.py:3: ParserWarning: Falling back to the 'python' engine because the 'c' engine does not support regex separators (separators > 1 char and different from '\\s+' are interpreted as regex); you can avoid this warning by specifying engine='python'.\n",
      "  This is separate from the ipykernel package so we can avoid doing imports until\n",
      "C:\\Users\\piyus\\Anaconda3\\lib\\site-packages\\ipykernel_launcher.py:4: ParserWarning: Falling back to the 'python' engine because the 'c' engine does not support regex separators (separators > 1 char and different from '\\s+' are interpreted as regex); you can avoid this warning by specifying engine='python'.\n",
      "  after removing the cwd from sys.path.\n"
     ]
    }
   ],
   "source": [
    "# can use ignore warning to avoid pandas to give warning\n",
    "ratings= pd.read_csv(r'.\\data\\ratings.dat',sep='::',names=['UserID','MovieID','Rating','Timestamp'])\n",
    "movies = pd.read_csv(r'.\\data\\movies.dat', sep='::',names=['MovieID','Title','Genres'])\n",
    "users =pd.read_csv(r'.\\data\\users.dat',sep='::',names=['UserID','Gender','Age','Occupation','Zip-code'])"
   ]
  },
  {
   "cell_type": "code",
   "execution_count": 3,
   "metadata": {},
   "outputs": [],
   "source": [
    "# ------ comment ---------\n"
   ]
  },
  {
   "cell_type": "code",
   "execution_count": 4,
   "metadata": {},
   "outputs": [
    {
     "name": "stdout",
     "output_type": "stream",
     "text": [
      "(1000209, 4)\n"
     ]
    },
    {
     "data": {
      "text/html": [
       "<div>\n",
       "<style scoped>\n",
       "    .dataframe tbody tr th:only-of-type {\n",
       "        vertical-align: middle;\n",
       "    }\n",
       "\n",
       "    .dataframe tbody tr th {\n",
       "        vertical-align: top;\n",
       "    }\n",
       "\n",
       "    .dataframe thead th {\n",
       "        text-align: right;\n",
       "    }\n",
       "</style>\n",
       "<table border=\"1\" class=\"dataframe\">\n",
       "  <thead>\n",
       "    <tr style=\"text-align: right;\">\n",
       "      <th></th>\n",
       "      <th>UserID</th>\n",
       "      <th>MovieID</th>\n",
       "      <th>Rating</th>\n",
       "      <th>Timestamp</th>\n",
       "    </tr>\n",
       "  </thead>\n",
       "  <tbody>\n",
       "    <tr>\n",
       "      <td>0</td>\n",
       "      <td>1</td>\n",
       "      <td>1193</td>\n",
       "      <td>5</td>\n",
       "      <td>978300760</td>\n",
       "    </tr>\n",
       "  </tbody>\n",
       "</table>\n",
       "</div>"
      ],
      "text/plain": [
       "   UserID  MovieID  Rating  Timestamp\n",
       "0       1     1193       5  978300760"
      ]
     },
     "execution_count": 4,
     "metadata": {},
     "output_type": "execute_result"
    }
   ],
   "source": [
    "print(ratings.shape)\n",
    "ratings.head(1)"
   ]
  },
  {
   "cell_type": "code",
   "execution_count": 5,
   "metadata": {},
   "outputs": [
    {
     "name": "stdout",
     "output_type": "stream",
     "text": [
      "(3883, 3)\n"
     ]
    },
    {
     "data": {
      "text/html": [
       "<div>\n",
       "<style scoped>\n",
       "    .dataframe tbody tr th:only-of-type {\n",
       "        vertical-align: middle;\n",
       "    }\n",
       "\n",
       "    .dataframe tbody tr th {\n",
       "        vertical-align: top;\n",
       "    }\n",
       "\n",
       "    .dataframe thead th {\n",
       "        text-align: right;\n",
       "    }\n",
       "</style>\n",
       "<table border=\"1\" class=\"dataframe\">\n",
       "  <thead>\n",
       "    <tr style=\"text-align: right;\">\n",
       "      <th></th>\n",
       "      <th>MovieID</th>\n",
       "      <th>Title</th>\n",
       "      <th>Genres</th>\n",
       "    </tr>\n",
       "  </thead>\n",
       "  <tbody>\n",
       "    <tr>\n",
       "      <td>0</td>\n",
       "      <td>1</td>\n",
       "      <td>Toy Story (1995)</td>\n",
       "      <td>Animation|Children's|Comedy</td>\n",
       "    </tr>\n",
       "  </tbody>\n",
       "</table>\n",
       "</div>"
      ],
      "text/plain": [
       "   MovieID             Title                       Genres\n",
       "0        1  Toy Story (1995)  Animation|Children's|Comedy"
      ]
     },
     "execution_count": 5,
     "metadata": {},
     "output_type": "execute_result"
    }
   ],
   "source": [
    "print(movies.shape)\n",
    "movies.head(1)"
   ]
  },
  {
   "cell_type": "code",
   "execution_count": 6,
   "metadata": {},
   "outputs": [
    {
     "name": "stdout",
     "output_type": "stream",
     "text": [
      "(6040, 5)\n"
     ]
    },
    {
     "data": {
      "text/html": [
       "<div>\n",
       "<style scoped>\n",
       "    .dataframe tbody tr th:only-of-type {\n",
       "        vertical-align: middle;\n",
       "    }\n",
       "\n",
       "    .dataframe tbody tr th {\n",
       "        vertical-align: top;\n",
       "    }\n",
       "\n",
       "    .dataframe thead th {\n",
       "        text-align: right;\n",
       "    }\n",
       "</style>\n",
       "<table border=\"1\" class=\"dataframe\">\n",
       "  <thead>\n",
       "    <tr style=\"text-align: right;\">\n",
       "      <th></th>\n",
       "      <th>UserID</th>\n",
       "      <th>Gender</th>\n",
       "      <th>Age</th>\n",
       "      <th>Occupation</th>\n",
       "      <th>Zip-code</th>\n",
       "    </tr>\n",
       "  </thead>\n",
       "  <tbody>\n",
       "    <tr>\n",
       "      <td>0</td>\n",
       "      <td>1</td>\n",
       "      <td>F</td>\n",
       "      <td>1</td>\n",
       "      <td>10</td>\n",
       "      <td>48067</td>\n",
       "    </tr>\n",
       "  </tbody>\n",
       "</table>\n",
       "</div>"
      ],
      "text/plain": [
       "   UserID Gender  Age  Occupation Zip-code\n",
       "0       1      F    1          10    48067"
      ]
     },
     "execution_count": 6,
     "metadata": {},
     "output_type": "execute_result"
    }
   ],
   "source": [
    "print(users.shape)\n",
    "users.head(1)"
   ]
  },
  {
   "cell_type": "markdown",
   "metadata": {},
   "source": [
    "# \tCreate a new dataset [Master_Data] with the following columns MovieID Title UserID Age Gender Occupation Rating. \n",
    "#  (i) Merge two tables at a time. \n",
    "# (ii) Merge the tables using two primary keys MovieID & UserId)"
   ]
  },
  {
   "cell_type": "code",
   "execution_count": 7,
   "metadata": {},
   "outputs": [],
   "source": [
    "mer_movi_rat = ratings.merge(movies,how='inner',on='MovieID')"
   ]
  },
  {
   "cell_type": "code",
   "execution_count": 8,
   "metadata": {},
   "outputs": [
    {
     "name": "stdout",
     "output_type": "stream",
     "text": [
      "(1000209, 6)\n"
     ]
    },
    {
     "data": {
      "text/html": [
       "<div>\n",
       "<style scoped>\n",
       "    .dataframe tbody tr th:only-of-type {\n",
       "        vertical-align: middle;\n",
       "    }\n",
       "\n",
       "    .dataframe tbody tr th {\n",
       "        vertical-align: top;\n",
       "    }\n",
       "\n",
       "    .dataframe thead th {\n",
       "        text-align: right;\n",
       "    }\n",
       "</style>\n",
       "<table border=\"1\" class=\"dataframe\">\n",
       "  <thead>\n",
       "    <tr style=\"text-align: right;\">\n",
       "      <th></th>\n",
       "      <th>UserID</th>\n",
       "      <th>MovieID</th>\n",
       "      <th>Rating</th>\n",
       "      <th>Timestamp</th>\n",
       "      <th>Title</th>\n",
       "      <th>Genres</th>\n",
       "    </tr>\n",
       "  </thead>\n",
       "  <tbody>\n",
       "    <tr>\n",
       "      <td>0</td>\n",
       "      <td>1</td>\n",
       "      <td>1193</td>\n",
       "      <td>5</td>\n",
       "      <td>978300760</td>\n",
       "      <td>One Flew Over the Cuckoo's Nest (1975)</td>\n",
       "      <td>Drama</td>\n",
       "    </tr>\n",
       "  </tbody>\n",
       "</table>\n",
       "</div>"
      ],
      "text/plain": [
       "   UserID  MovieID  Rating  Timestamp                                   Title  \\\n",
       "0       1     1193       5  978300760  One Flew Over the Cuckoo's Nest (1975)   \n",
       "\n",
       "  Genres  \n",
       "0  Drama  "
      ]
     },
     "execution_count": 8,
     "metadata": {},
     "output_type": "execute_result"
    }
   ],
   "source": [
    "print(mer_movi_rat.shape)\n",
    "mer_movi_rat.head(1)"
   ]
  },
  {
   "cell_type": "code",
   "execution_count": 9,
   "metadata": {},
   "outputs": [
    {
     "name": "stdout",
     "output_type": "stream",
     "text": [
      "(6040, 5)\n"
     ]
    },
    {
     "data": {
      "text/html": [
       "<div>\n",
       "<style scoped>\n",
       "    .dataframe tbody tr th:only-of-type {\n",
       "        vertical-align: middle;\n",
       "    }\n",
       "\n",
       "    .dataframe tbody tr th {\n",
       "        vertical-align: top;\n",
       "    }\n",
       "\n",
       "    .dataframe thead th {\n",
       "        text-align: right;\n",
       "    }\n",
       "</style>\n",
       "<table border=\"1\" class=\"dataframe\">\n",
       "  <thead>\n",
       "    <tr style=\"text-align: right;\">\n",
       "      <th></th>\n",
       "      <th>UserID</th>\n",
       "      <th>Gender</th>\n",
       "      <th>Age</th>\n",
       "      <th>Occupation</th>\n",
       "      <th>Zip-code</th>\n",
       "    </tr>\n",
       "  </thead>\n",
       "  <tbody>\n",
       "    <tr>\n",
       "      <td>0</td>\n",
       "      <td>1</td>\n",
       "      <td>F</td>\n",
       "      <td>1</td>\n",
       "      <td>10</td>\n",
       "      <td>48067</td>\n",
       "    </tr>\n",
       "  </tbody>\n",
       "</table>\n",
       "</div>"
      ],
      "text/plain": [
       "   UserID Gender  Age  Occupation Zip-code\n",
       "0       1      F    1          10    48067"
      ]
     },
     "execution_count": 9,
     "metadata": {},
     "output_type": "execute_result"
    }
   ],
   "source": [
    "print(users.shape)\n",
    "users.head(1)"
   ]
  },
  {
   "cell_type": "code",
   "execution_count": 10,
   "metadata": {},
   "outputs": [],
   "source": [
    "mer_movi_rat_user = mer_movi_rat.merge(users,how='inner',on='UserID')"
   ]
  },
  {
   "cell_type": "code",
   "execution_count": 11,
   "metadata": {},
   "outputs": [],
   "source": [
    "# Master_Data after marge \n",
    "Master_Data= mer_movi_rat_user[['MovieID','Title','UserID','Age','Gender','Occupation','Rating']]"
   ]
  },
  {
   "cell_type": "code",
   "execution_count": 12,
   "metadata": {},
   "outputs": [],
   "source": [
    "# ------ comment ---------\n"
   ]
  },
  {
   "cell_type": "code",
   "execution_count": 13,
   "metadata": {},
   "outputs": [
    {
     "name": "stdout",
     "output_type": "stream",
     "text": [
      "(1000209, 10)\n"
     ]
    },
    {
     "data": {
      "text/html": [
       "<div>\n",
       "<style scoped>\n",
       "    .dataframe tbody tr th:only-of-type {\n",
       "        vertical-align: middle;\n",
       "    }\n",
       "\n",
       "    .dataframe tbody tr th {\n",
       "        vertical-align: top;\n",
       "    }\n",
       "\n",
       "    .dataframe thead th {\n",
       "        text-align: right;\n",
       "    }\n",
       "</style>\n",
       "<table border=\"1\" class=\"dataframe\">\n",
       "  <thead>\n",
       "    <tr style=\"text-align: right;\">\n",
       "      <th></th>\n",
       "      <th>UserID</th>\n",
       "      <th>MovieID</th>\n",
       "      <th>Rating</th>\n",
       "      <th>Timestamp</th>\n",
       "      <th>Title</th>\n",
       "      <th>Genres</th>\n",
       "      <th>Gender</th>\n",
       "      <th>Age</th>\n",
       "      <th>Occupation</th>\n",
       "      <th>Zip-code</th>\n",
       "    </tr>\n",
       "  </thead>\n",
       "  <tbody>\n",
       "    <tr>\n",
       "      <td>0</td>\n",
       "      <td>1</td>\n",
       "      <td>1193</td>\n",
       "      <td>5</td>\n",
       "      <td>978300760</td>\n",
       "      <td>One Flew Over the Cuckoo's Nest (1975)</td>\n",
       "      <td>Drama</td>\n",
       "      <td>F</td>\n",
       "      <td>1</td>\n",
       "      <td>10</td>\n",
       "      <td>48067</td>\n",
       "    </tr>\n",
       "  </tbody>\n",
       "</table>\n",
       "</div>"
      ],
      "text/plain": [
       "   UserID  MovieID  Rating  Timestamp                                   Title  \\\n",
       "0       1     1193       5  978300760  One Flew Over the Cuckoo's Nest (1975)   \n",
       "\n",
       "  Genres Gender  Age  Occupation Zip-code  \n",
       "0  Drama      F    1          10    48067  "
      ]
     },
     "execution_count": 13,
     "metadata": {},
     "output_type": "execute_result"
    }
   ],
   "source": [
    "print(mer_movi_rat_user.shape)\n",
    "mer_movi_rat_user.head(1)"
   ]
  },
  {
   "cell_type": "code",
   "execution_count": 14,
   "metadata": {},
   "outputs": [
    {
     "data": {
      "text/plain": [
       "(Timestamp('1970-01-01 00:00:00.956703932'),\n",
       " Timestamp('1970-01-01 00:00:01.046454590'))"
      ]
     },
     "execution_count": 14,
     "metadata": {},
     "output_type": "execute_result"
    }
   ],
   "source": [
    "# checking for Timestamp\n",
    "pd.to_datetime(mer_movi_rat_user['Timestamp']).min(),pd.to_datetime(mer_movi_rat_user['Timestamp']).max()"
   ]
  },
  {
   "cell_type": "code",
   "execution_count": 15,
   "metadata": {},
   "outputs": [],
   "source": [
    "# Dropping the Zip-code and Timestamp as they seems no segnificant in date\n",
    "mer_movi_rat_user.drop(['Timestamp','Zip-code'],inplace=True,axis=1)"
   ]
  },
  {
   "cell_type": "markdown",
   "metadata": {},
   "source": [
    "# 1.\tUser Age Distribution"
   ]
  },
  {
   "cell_type": "code",
   "execution_count": 16,
   "metadata": {},
   "outputs": [
    {
     "data": {
      "text/plain": [
       "(1, 56)"
      ]
     },
     "execution_count": 16,
     "metadata": {},
     "output_type": "execute_result"
    }
   ],
   "source": [
    "mer_movi_rat_user['Age'].min(),mer_movi_rat_user['Age'].max()"
   ]
  },
  {
   "cell_type": "code",
   "execution_count": 17,
   "metadata": {},
   "outputs": [
    {
     "data": {
      "text/plain": [
       "Age\n",
       "1     0.000915\n",
       "18    0.111067\n",
       "25    0.332461\n",
       "35    0.234164\n",
       "45    0.126527\n",
       "50    0.121854\n",
       "56    0.073011\n",
       "Name: Age, dtype: float64"
      ]
     },
     "execution_count": 17,
     "metadata": {},
     "output_type": "execute_result"
    }
   ],
   "source": [
    "(mer_movi_rat_user.groupby(['Age'])['Age'].sum()/mer_movi_rat_user['Age'].sum())"
   ]
  },
  {
   "cell_type": "code",
   "execution_count": 18,
   "metadata": {},
   "outputs": [
    {
     "data": {
      "text/plain": [
       "<matplotlib.axes._subplots.AxesSubplot at 0x26cd6059b88>"
      ]
     },
     "execution_count": 18,
     "metadata": {},
     "output_type": "execute_result"
    },
    {
     "data": {
      "image/png": "[encoded data removed]",
      "text/plain": [
       "<Figure size 1296x432 with 1 Axes>"
      ]
     },
     "metadata": {
      "needs_background": "light"
     },
     "output_type": "display_data"
    }
   ],
   "source": [
    "plt.figure(figsize=(18,6))\n",
    "sns.distplot(mer_movi_rat_user['Age'])"
   ]
  },
  {
   "cell_type": "code",
   "execution_count": 19,
   "metadata": {},
   "outputs": [],
   "source": [
    "# ------ comment ---------\n"
   ]
  },
  {
   "cell_type": "markdown",
   "metadata": {},
   "source": [
    "# 2.\tUser rating of the movie “Toy Story”"
   ]
  },
  {
   "cell_type": "code",
   "execution_count": 20,
   "metadata": {},
   "outputs": [
    {
     "data": {
      "text/plain": [
       "4    835\n",
       "5    820\n",
       "3    345\n",
       "2     61\n",
       "1     16\n",
       "Name: Rating, dtype: int64"
      ]
     },
     "execution_count": 20,
     "metadata": {},
     "output_type": "execute_result"
    }
   ],
   "source": [
    "mer_movi_rat_user[mer_movi_rat_user['Title']=='Toy Story (1995)']['Rating'].value_counts()"
   ]
  },
  {
   "cell_type": "code",
   "execution_count": 21,
   "metadata": {},
   "outputs": [
    {
     "data": {
      "text/plain": [
       "<matplotlib.axes._subplots.AxesSubplot at 0x26cc1ce2f08>"
      ]
     },
     "execution_count": 21,
     "metadata": {},
     "output_type": "execute_result"
    },
    {
     "data": {
      "image/png": "[encoded data removed]",
      "text/plain": [
       "<Figure size 1296x432 with 1 Axes>"
      ]
     },
     "metadata": {
      "needs_background": "light"
     },
     "output_type": "display_data"
    }
   ],
   "source": [
    "plt.figure(figsize=(18,6))\n",
    "sns.countplot(mer_movi_rat_user[mer_movi_rat_user['Title']=='Toy Story (1995)']['Rating'])"
   ]
  },
  {
   "cell_type": "code",
   "execution_count": 22,
   "metadata": {},
   "outputs": [],
   "source": [
    "# ------ comment ---------\n"
   ]
  },
  {
   "cell_type": "markdown",
   "metadata": {},
   "source": [
    "# Top 25 movies by viewership rating"
   ]
  },
  {
   "cell_type": "code",
   "execution_count": 23,
   "metadata": {},
   "outputs": [
    {
     "data": {
      "text/plain": [
       "5    226310\n",
       "Name: Rating, dtype: int64"
      ]
     },
     "execution_count": 23,
     "metadata": {},
     "output_type": "execute_result"
    }
   ],
   "source": [
    "mer_movi_rat_user[mer_movi_rat_user['Rating']==5]['Rating'].value_counts()"
   ]
  },
  {
   "cell_type": "code",
   "execution_count": 24,
   "metadata": {},
   "outputs": [
    {
     "data": {
      "text/html": [
       "<div>\n",
       "<style scoped>\n",
       "    .dataframe tbody tr th:only-of-type {\n",
       "        vertical-align: middle;\n",
       "    }\n",
       "\n",
       "    .dataframe tbody tr th {\n",
       "        vertical-align: top;\n",
       "    }\n",
       "\n",
       "    .dataframe thead th {\n",
       "        text-align: right;\n",
       "    }\n",
       "</style>\n",
       "<table border=\"1\" class=\"dataframe\">\n",
       "  <thead>\n",
       "    <tr style=\"text-align: right;\">\n",
       "      <th></th>\n",
       "      <th>UserID</th>\n",
       "      <th>MovieID</th>\n",
       "      <th>Rating</th>\n",
       "      <th>Title</th>\n",
       "      <th>Genres</th>\n",
       "      <th>Gender</th>\n",
       "      <th>Age</th>\n",
       "      <th>Occupation</th>\n",
       "    </tr>\n",
       "  </thead>\n",
       "  <tbody>\n",
       "    <tr>\n",
       "      <td>0</td>\n",
       "      <td>1</td>\n",
       "      <td>1193</td>\n",
       "      <td>5</td>\n",
       "      <td>One Flew Over the Cuckoo's Nest (1975)</td>\n",
       "      <td>Drama</td>\n",
       "      <td>F</td>\n",
       "      <td>1</td>\n",
       "      <td>10</td>\n",
       "    </tr>\n",
       "    <tr>\n",
       "      <td>1</td>\n",
       "      <td>1</td>\n",
       "      <td>661</td>\n",
       "      <td>3</td>\n",
       "      <td>James and the Giant Peach (1996)</td>\n",
       "      <td>Animation|Children's|Musical</td>\n",
       "      <td>F</td>\n",
       "      <td>1</td>\n",
       "      <td>10</td>\n",
       "    </tr>\n",
       "    <tr>\n",
       "      <td>2</td>\n",
       "      <td>1</td>\n",
       "      <td>914</td>\n",
       "      <td>3</td>\n",
       "      <td>My Fair Lady (1964)</td>\n",
       "      <td>Musical|Romance</td>\n",
       "      <td>F</td>\n",
       "      <td>1</td>\n",
       "      <td>10</td>\n",
       "    </tr>\n",
       "    <tr>\n",
       "      <td>3</td>\n",
       "      <td>1</td>\n",
       "      <td>3408</td>\n",
       "      <td>4</td>\n",
       "      <td>Erin Brockovich (2000)</td>\n",
       "      <td>Drama</td>\n",
       "      <td>F</td>\n",
       "      <td>1</td>\n",
       "      <td>10</td>\n",
       "    </tr>\n",
       "    <tr>\n",
       "      <td>4</td>\n",
       "      <td>1</td>\n",
       "      <td>2355</td>\n",
       "      <td>5</td>\n",
       "      <td>Bug's Life, A (1998)</td>\n",
       "      <td>Animation|Children's|Comedy</td>\n",
       "      <td>F</td>\n",
       "      <td>1</td>\n",
       "      <td>10</td>\n",
       "    </tr>\n",
       "  </tbody>\n",
       "</table>\n",
       "</div>"
      ],
      "text/plain": [
       "   UserID  MovieID  Rating                                   Title  \\\n",
       "0       1     1193       5  One Flew Over the Cuckoo's Nest (1975)   \n",
       "1       1      661       3        James and the Giant Peach (1996)   \n",
       "2       1      914       3                     My Fair Lady (1964)   \n",
       "3       1     3408       4                  Erin Brockovich (2000)   \n",
       "4       1     2355       5                    Bug's Life, A (1998)   \n",
       "\n",
       "                         Genres Gender  Age  Occupation  \n",
       "0                         Drama      F    1          10  \n",
       "1  Animation|Children's|Musical      F    1          10  \n",
       "2               Musical|Romance      F    1          10  \n",
       "3                         Drama      F    1          10  \n",
       "4   Animation|Children's|Comedy      F    1          10  "
      ]
     },
     "execution_count": 24,
     "metadata": {},
     "output_type": "execute_result"
    }
   ],
   "source": [
    "mer_movi_rat_user.head()"
   ]
  },
  {
   "cell_type": "code",
   "execution_count": 25,
   "metadata": {},
   "outputs": [
    {
     "data": {
      "text/plain": [
       "Title\n",
       "American Beauty (1999)                                   14800\n",
       "Star Wars: Episode IV - A New Hope (1977)                13321\n",
       "Star Wars: Episode V - The Empire Strikes Back (1980)    12836\n",
       "Star Wars: Episode VI - Return of the Jedi (1983)        11598\n",
       "Saving Private Ryan (1998)                               11507\n",
       "Raiders of the Lost Ark (1981)                           11257\n",
       "Silence of the Lambs, The (1991)                         11219\n",
       "Matrix, The (1999)                                       11178\n",
       "Sixth Sense, The (1999)                                  10835\n",
       "Terminator 2: Judgment Day (1991)                        10751\n",
       "Fargo (1996)                                             10692\n",
       "Schindler's List (1993)                                  10392\n",
       "Braveheart (1995)                                        10346\n",
       "Back to the Future (1985)                                10307\n",
       "Shawshank Redemption, The (1994)                         10143\n",
       "Godfather, The (1972)                                    10059\n",
       "Jurassic Park (1993)                                     10057\n",
       "Princess Bride, The (1987)                                9976\n",
       "Shakespeare in Love (1998)                                9778\n",
       "L.A. Confidential (1997)                                  9654\n",
       "Men in Black (1997)                                       9492\n",
       "Pulp Fiction (1994)                                       9288\n",
       "Being John Malkovich (1999)                               9245\n",
       "Groundhog Day (1993)                                      9005\n",
       "E.T. the Extra-Terrestrial (1982)                         8997\n",
       "Name: Rating, dtype: int64"
      ]
     },
     "execution_count": 25,
     "metadata": {},
     "output_type": "execute_result"
    }
   ],
   "source": [
    "mer_movi_rat_user.groupby(['Title'])['Rating'].sum().sort_values(ascending=False).head(25)"
   ]
  },
  {
   "cell_type": "code",
   "execution_count": 26,
   "metadata": {},
   "outputs": [
    {
     "data": {
      "text/plain": [
       "['American Beauty (1999)',\n",
       " 'Star Wars: Episode IV - A New Hope (1977)',\n",
       " 'Star Wars: Episode V - The Empire Strikes Back (1980)',\n",
       " 'Star Wars: Episode VI - Return of the Jedi (1983)',\n",
       " 'Saving Private Ryan (1998)',\n",
       " 'Raiders of the Lost Ark (1981)',\n",
       " 'Silence of the Lambs, The (1991)',\n",
       " 'Matrix, The (1999)',\n",
       " 'Sixth Sense, The (1999)',\n",
       " 'Terminator 2: Judgment Day (1991)',\n",
       " 'Fargo (1996)',\n",
       " \"Schindler's List (1993)\",\n",
       " 'Braveheart (1995)',\n",
       " 'Back to the Future (1985)',\n",
       " 'Shawshank Redemption, The (1994)',\n",
       " 'Godfather, The (1972)',\n",
       " 'Jurassic Park (1993)',\n",
       " 'Princess Bride, The (1987)',\n",
       " 'Shakespeare in Love (1998)',\n",
       " 'L.A. Confidential (1997)',\n",
       " 'Men in Black (1997)',\n",
       " 'Pulp Fiction (1994)',\n",
       " 'Being John Malkovich (1999)',\n",
       " 'Groundhog Day (1993)',\n",
       " 'E.T. the Extra-Terrestrial (1982)']"
      ]
     },
     "execution_count": 26,
     "metadata": {},
     "output_type": "execute_result"
    }
   ],
   "source": [
    "list(mer_movi_rat_user.groupby(['Title'])['Rating'].sum().sort_values(ascending=False).head(25).index)"
   ]
  },
  {
   "cell_type": "code",
   "execution_count": 27,
   "metadata": {},
   "outputs": [],
   "source": [
    "# ------ comment ---------\n"
   ]
  },
  {
   "cell_type": "markdown",
   "metadata": {},
   "source": [
    "# Ratings for all movies reviewed by for a particular user id = 2696"
   ]
  },
  {
   "cell_type": "code",
   "execution_count": 28,
   "metadata": {},
   "outputs": [
    {
     "data": {
      "text/html": [
       "<div>\n",
       "<style scoped>\n",
       "    .dataframe tbody tr th:only-of-type {\n",
       "        vertical-align: middle;\n",
       "    }\n",
       "\n",
       "    .dataframe tbody tr th {\n",
       "        vertical-align: top;\n",
       "    }\n",
       "\n",
       "    .dataframe thead th {\n",
       "        text-align: right;\n",
       "    }\n",
       "</style>\n",
       "<table border=\"1\" class=\"dataframe\">\n",
       "  <thead>\n",
       "    <tr style=\"text-align: right;\">\n",
       "      <th></th>\n",
       "      <th>Title</th>\n",
       "      <th>Rating</th>\n",
       "    </tr>\n",
       "  </thead>\n",
       "  <tbody>\n",
       "    <tr>\n",
       "      <td>0</td>\n",
       "      <td>Lone Star (1996)</td>\n",
       "      <td>5</td>\n",
       "    </tr>\n",
       "    <tr>\n",
       "      <td>1</td>\n",
       "      <td>Game, The (1997)</td>\n",
       "      <td>4</td>\n",
       "    </tr>\n",
       "    <tr>\n",
       "      <td>2</td>\n",
       "      <td>Devil's Advocate, The (1997)</td>\n",
       "      <td>4</td>\n",
       "    </tr>\n",
       "    <tr>\n",
       "      <td>3</td>\n",
       "      <td>L.A. Confidential (1997)</td>\n",
       "      <td>4</td>\n",
       "    </tr>\n",
       "    <tr>\n",
       "      <td>4</td>\n",
       "      <td>Shining, The (1980)</td>\n",
       "      <td>4</td>\n",
       "    </tr>\n",
       "    <tr>\n",
       "      <td>5</td>\n",
       "      <td>Talented Mr. Ripley, The (1999)</td>\n",
       "      <td>4</td>\n",
       "    </tr>\n",
       "    <tr>\n",
       "      <td>6</td>\n",
       "      <td>Midnight in the Garden of Good and Evil (1997)</td>\n",
       "      <td>4</td>\n",
       "    </tr>\n",
       "    <tr>\n",
       "      <td>7</td>\n",
       "      <td>Basic Instinct (1992)</td>\n",
       "      <td>4</td>\n",
       "    </tr>\n",
       "    <tr>\n",
       "      <td>8</td>\n",
       "      <td>Palmetto (1998)</td>\n",
       "      <td>4</td>\n",
       "    </tr>\n",
       "    <tr>\n",
       "      <td>9</td>\n",
       "      <td>Perfect Murder, A (1998)</td>\n",
       "      <td>4</td>\n",
       "    </tr>\n",
       "    <tr>\n",
       "      <td>10</td>\n",
       "      <td>Wild Things (1998)</td>\n",
       "      <td>4</td>\n",
       "    </tr>\n",
       "    <tr>\n",
       "      <td>11</td>\n",
       "      <td>Psycho (1998)</td>\n",
       "      <td>4</td>\n",
       "    </tr>\n",
       "    <tr>\n",
       "      <td>12</td>\n",
       "      <td>Client, The (1994)</td>\n",
       "      <td>3</td>\n",
       "    </tr>\n",
       "    <tr>\n",
       "      <td>13</td>\n",
       "      <td>E.T. the Extra-Terrestrial (1982)</td>\n",
       "      <td>3</td>\n",
       "    </tr>\n",
       "    <tr>\n",
       "      <td>14</td>\n",
       "      <td>Cop Land (1997)</td>\n",
       "      <td>3</td>\n",
       "    </tr>\n",
       "    <tr>\n",
       "      <td>15</td>\n",
       "      <td>I Know What You Did Last Summer (1997)</td>\n",
       "      <td>2</td>\n",
       "    </tr>\n",
       "    <tr>\n",
       "      <td>16</td>\n",
       "      <td>I Still Know What You Did Last Summer (1998)</td>\n",
       "      <td>2</td>\n",
       "    </tr>\n",
       "    <tr>\n",
       "      <td>17</td>\n",
       "      <td>Back to the Future (1985)</td>\n",
       "      <td>2</td>\n",
       "    </tr>\n",
       "    <tr>\n",
       "      <td>18</td>\n",
       "      <td>Lake Placid (1999)</td>\n",
       "      <td>1</td>\n",
       "    </tr>\n",
       "    <tr>\n",
       "      <td>19</td>\n",
       "      <td>JFK (1991)</td>\n",
       "      <td>1</td>\n",
       "    </tr>\n",
       "  </tbody>\n",
       "</table>\n",
       "</div>"
      ],
      "text/plain": [
       "                                             Title  Rating\n",
       "0                                 Lone Star (1996)       5\n",
       "1                                 Game, The (1997)       4\n",
       "2                     Devil's Advocate, The (1997)       4\n",
       "3                         L.A. Confidential (1997)       4\n",
       "4                              Shining, The (1980)       4\n",
       "5                  Talented Mr. Ripley, The (1999)       4\n",
       "6   Midnight in the Garden of Good and Evil (1997)       4\n",
       "7                            Basic Instinct (1992)       4\n",
       "8                                  Palmetto (1998)       4\n",
       "9                         Perfect Murder, A (1998)       4\n",
       "10                              Wild Things (1998)       4\n",
       "11                                   Psycho (1998)       4\n",
       "12                              Client, The (1994)       3\n",
       "13               E.T. the Extra-Terrestrial (1982)       3\n",
       "14                                 Cop Land (1997)       3\n",
       "15          I Know What You Did Last Summer (1997)       2\n",
       "16    I Still Know What You Did Last Summer (1998)       2\n",
       "17                       Back to the Future (1985)       2\n",
       "18                              Lake Placid (1999)       1\n",
       "19                                      JFK (1991)       1"
      ]
     },
     "execution_count": 28,
     "metadata": {},
     "output_type": "execute_result"
    }
   ],
   "source": [
    "mer_movi_rat_user[mer_movi_rat_user['UserID']==2696][['Title','Rating']].sort_values(by='Rating',ascending=False).reset_index(drop=True)"
   ]
  },
  {
   "cell_type": "code",
   "execution_count": 29,
   "metadata": {},
   "outputs": [],
   "source": [
    "# ------ comment ---------\n"
   ]
  },
  {
   "cell_type": "markdown",
   "metadata": {},
   "source": [
    "# Feature Engineering\n",
    "    --- Find out all the unique genres "
   ]
  },
  {
   "cell_type": "code",
   "execution_count": 30,
   "metadata": {},
   "outputs": [
    {
     "name": "stdout",
     "output_type": "stream",
     "text": [
      "(3883, 3)\n"
     ]
    },
    {
     "data": {
      "text/html": [
       "<div>\n",
       "<style scoped>\n",
       "    .dataframe tbody tr th:only-of-type {\n",
       "        vertical-align: middle;\n",
       "    }\n",
       "\n",
       "    .dataframe tbody tr th {\n",
       "        vertical-align: top;\n",
       "    }\n",
       "\n",
       "    .dataframe thead th {\n",
       "        text-align: right;\n",
       "    }\n",
       "</style>\n",
       "<table border=\"1\" class=\"dataframe\">\n",
       "  <thead>\n",
       "    <tr style=\"text-align: right;\">\n",
       "      <th></th>\n",
       "      <th>MovieID</th>\n",
       "      <th>Title</th>\n",
       "      <th>Genres</th>\n",
       "    </tr>\n",
       "  </thead>\n",
       "  <tbody>\n",
       "    <tr>\n",
       "      <td>0</td>\n",
       "      <td>1</td>\n",
       "      <td>Toy Story (1995)</td>\n",
       "      <td>Animation|Children's|Comedy</td>\n",
       "    </tr>\n",
       "    <tr>\n",
       "      <td>1</td>\n",
       "      <td>2</td>\n",
       "      <td>Jumanji (1995)</td>\n",
       "      <td>Adventure|Children's|Fantasy</td>\n",
       "    </tr>\n",
       "    <tr>\n",
       "      <td>2</td>\n",
       "      <td>3</td>\n",
       "      <td>Grumpier Old Men (1995)</td>\n",
       "      <td>Comedy|Romance</td>\n",
       "    </tr>\n",
       "    <tr>\n",
       "      <td>3</td>\n",
       "      <td>4</td>\n",
       "      <td>Waiting to Exhale (1995)</td>\n",
       "      <td>Comedy|Drama</td>\n",
       "    </tr>\n",
       "    <tr>\n",
       "      <td>4</td>\n",
       "      <td>5</td>\n",
       "      <td>Father of the Bride Part II (1995)</td>\n",
       "      <td>Comedy</td>\n",
       "    </tr>\n",
       "  </tbody>\n",
       "</table>\n",
       "</div>"
      ],
      "text/plain": [
       "   MovieID                               Title                        Genres\n",
       "0        1                    Toy Story (1995)   Animation|Children's|Comedy\n",
       "1        2                      Jumanji (1995)  Adventure|Children's|Fantasy\n",
       "2        3             Grumpier Old Men (1995)                Comedy|Romance\n",
       "3        4            Waiting to Exhale (1995)                  Comedy|Drama\n",
       "4        5  Father of the Bride Part II (1995)                        Comedy"
      ]
     },
     "execution_count": 30,
     "metadata": {},
     "output_type": "execute_result"
    }
   ],
   "source": [
    "#1.\tFind out all the unique genres \n",
    "#(Hint: split the data in column genre making a list and then process the data to find out only \n",
    "#the unique categories of genres)\n",
    "print(movies.shape)\n",
    "movies.head(5)"
   ]
  },
  {
   "cell_type": "code",
   "execution_count": 31,
   "metadata": {},
   "outputs": [],
   "source": [
    "final_list=[]\n",
    "def get_unique(x):\n",
    "    final_list.extend(x.split('|'))\n",
    "mer_movi_rat_user['Genres'].apply(lambda x : get_unique(x));"
   ]
  },
  {
   "cell_type": "code",
   "execution_count": 32,
   "metadata": {},
   "outputs": [
    {
     "data": {
      "text/plain": [
       "['Action',\n",
       " 'Adventure',\n",
       " 'Animation',\n",
       " \"Children's\",\n",
       " 'Comedy',\n",
       " 'Crime',\n",
       " 'Documentary',\n",
       " 'Drama',\n",
       " 'Fantasy',\n",
       " 'Film-Noir',\n",
       " 'Horror',\n",
       " 'Musical',\n",
       " 'Mystery',\n",
       " 'Romance',\n",
       " 'Sci-Fi',\n",
       " 'Thriller',\n",
       " 'War',\n",
       " 'Western']"
      ]
     },
     "execution_count": 32,
     "metadata": {},
     "output_type": "execute_result"
    }
   ],
   "source": [
    "# Unique Genres for the data \n",
    "Genres_unique = list(np.unique(final_list))\n",
    "Genres_unique"
   ]
  },
  {
   "cell_type": "code",
   "execution_count": 33,
   "metadata": {},
   "outputs": [],
   "source": [
    "# ------ comment ---------\n"
   ]
  },
  {
   "cell_type": "code",
   "execution_count": 34,
   "metadata": {},
   "outputs": [
    {
     "data": {
      "text/html": [
       "<div>\n",
       "<style scoped>\n",
       "    .dataframe tbody tr th:only-of-type {\n",
       "        vertical-align: middle;\n",
       "    }\n",
       "\n",
       "    .dataframe tbody tr th {\n",
       "        vertical-align: top;\n",
       "    }\n",
       "\n",
       "    .dataframe thead th {\n",
       "        text-align: right;\n",
       "    }\n",
       "</style>\n",
       "<table border=\"1\" class=\"dataframe\">\n",
       "  <thead>\n",
       "    <tr style=\"text-align: right;\">\n",
       "      <th></th>\n",
       "      <th>UserID</th>\n",
       "      <th>MovieID</th>\n",
       "      <th>Rating</th>\n",
       "      <th>Title</th>\n",
       "      <th>Genres</th>\n",
       "      <th>Gender</th>\n",
       "      <th>Age</th>\n",
       "      <th>Occupation</th>\n",
       "    </tr>\n",
       "  </thead>\n",
       "  <tbody>\n",
       "    <tr>\n",
       "      <td>522054</td>\n",
       "      <td>4784</td>\n",
       "      <td>2736</td>\n",
       "      <td>5</td>\n",
       "      <td>Brighton Beach Memoirs (1986)</td>\n",
       "      <td>Comedy</td>\n",
       "      <td>F</td>\n",
       "      <td>35</td>\n",
       "      <td>6</td>\n",
       "    </tr>\n",
       "    <tr>\n",
       "      <td>208216</td>\n",
       "      <td>2848</td>\n",
       "      <td>1127</td>\n",
       "      <td>5</td>\n",
       "      <td>Abyss, The (1989)</td>\n",
       "      <td>Action|Adventure|Sci-Fi|Thriller</td>\n",
       "      <td>M</td>\n",
       "      <td>25</td>\n",
       "      <td>0</td>\n",
       "    </tr>\n",
       "    <tr>\n",
       "      <td>388764</td>\n",
       "      <td>5156</td>\n",
       "      <td>3471</td>\n",
       "      <td>5</td>\n",
       "      <td>Close Encounters of the Third Kind (1977)</td>\n",
       "      <td>Drama|Sci-Fi</td>\n",
       "      <td>M</td>\n",
       "      <td>18</td>\n",
       "      <td>14</td>\n",
       "    </tr>\n",
       "    <tr>\n",
       "      <td>83057</td>\n",
       "      <td>1124</td>\n",
       "      <td>3682</td>\n",
       "      <td>4</td>\n",
       "      <td>Magnum Force (1973)</td>\n",
       "      <td>Western</td>\n",
       "      <td>M</td>\n",
       "      <td>25</td>\n",
       "      <td>2</td>\n",
       "    </tr>\n",
       "    <tr>\n",
       "      <td>71858</td>\n",
       "      <td>1015</td>\n",
       "      <td>3512</td>\n",
       "      <td>3</td>\n",
       "      <td>Return to Me (2000)</td>\n",
       "      <td>Drama|Romance</td>\n",
       "      <td>M</td>\n",
       "      <td>35</td>\n",
       "      <td>3</td>\n",
       "    </tr>\n",
       "    <tr>\n",
       "      <td>755165</td>\n",
       "      <td>3993</td>\n",
       "      <td>1909</td>\n",
       "      <td>4</td>\n",
       "      <td>X-Files: Fight the Future, The (1998)</td>\n",
       "      <td>Mystery|Sci-Fi|Thriller</td>\n",
       "      <td>M</td>\n",
       "      <td>25</td>\n",
       "      <td>0</td>\n",
       "    </tr>\n",
       "    <tr>\n",
       "      <td>565237</td>\n",
       "      <td>2747</td>\n",
       "      <td>3882</td>\n",
       "      <td>4</td>\n",
       "      <td>Bring It On (2000)</td>\n",
       "      <td>Comedy</td>\n",
       "      <td>F</td>\n",
       "      <td>18</td>\n",
       "      <td>4</td>\n",
       "    </tr>\n",
       "    <tr>\n",
       "      <td>1040</td>\n",
       "      <td>19</td>\n",
       "      <td>2137</td>\n",
       "      <td>3</td>\n",
       "      <td>Charlotte's Web (1973)</td>\n",
       "      <td>Animation|Children's</td>\n",
       "      <td>M</td>\n",
       "      <td>1</td>\n",
       "      <td>10</td>\n",
       "    </tr>\n",
       "    <tr>\n",
       "      <td>434151</td>\n",
       "      <td>5762</td>\n",
       "      <td>1831</td>\n",
       "      <td>2</td>\n",
       "      <td>Lost in Space (1998)</td>\n",
       "      <td>Action|Sci-Fi|Thriller</td>\n",
       "      <td>F</td>\n",
       "      <td>35</td>\n",
       "      <td>6</td>\n",
       "    </tr>\n",
       "    <tr>\n",
       "      <td>476863</td>\n",
       "      <td>1354</td>\n",
       "      <td>1593</td>\n",
       "      <td>3</td>\n",
       "      <td>Picture Perfect (1997)</td>\n",
       "      <td>Comedy|Romance</td>\n",
       "      <td>F</td>\n",
       "      <td>25</td>\n",
       "      <td>2</td>\n",
       "    </tr>\n",
       "  </tbody>\n",
       "</table>\n",
       "</div>"
      ],
      "text/plain": [
       "        UserID  MovieID  Rating                                      Title  \\\n",
       "522054    4784     2736       5              Brighton Beach Memoirs (1986)   \n",
       "208216    2848     1127       5                          Abyss, The (1989)   \n",
       "388764    5156     3471       5  Close Encounters of the Third Kind (1977)   \n",
       "83057     1124     3682       4                        Magnum Force (1973)   \n",
       "71858     1015     3512       3                        Return to Me (2000)   \n",
       "755165    3993     1909       4      X-Files: Fight the Future, The (1998)   \n",
       "565237    2747     3882       4                         Bring It On (2000)   \n",
       "1040        19     2137       3                     Charlotte's Web (1973)   \n",
       "434151    5762     1831       2                       Lost in Space (1998)   \n",
       "476863    1354     1593       3                     Picture Perfect (1997)   \n",
       "\n",
       "                                  Genres Gender  Age  Occupation  \n",
       "522054                            Comedy      F   35           6  \n",
       "208216  Action|Adventure|Sci-Fi|Thriller      M   25           0  \n",
       "388764                      Drama|Sci-Fi      M   18          14  \n",
       "83057                            Western      M   25           2  \n",
       "71858                      Drama|Romance      M   35           3  \n",
       "755165           Mystery|Sci-Fi|Thriller      M   25           0  \n",
       "565237                            Comedy      F   18           4  \n",
       "1040                Animation|Children's      M    1          10  \n",
       "434151            Action|Sci-Fi|Thriller      F   35           6  \n",
       "476863                    Comedy|Romance      F   25           2  "
      ]
     },
     "execution_count": 34,
     "metadata": {},
     "output_type": "execute_result"
    }
   ],
   "source": [
    "mer_movi_rat_user.sample(10)"
   ]
  },
  {
   "cell_type": "code",
   "execution_count": 35,
   "metadata": {},
   "outputs": [
    {
     "data": {
      "text/plain": [
       "UserID        6040\n",
       "MovieID       3706\n",
       "Rating           5\n",
       "Title         3706\n",
       "Genres         301\n",
       "Gender           2\n",
       "Age              7\n",
       "Occupation      21\n",
       "dtype: int64"
      ]
     },
     "execution_count": 35,
     "metadata": {},
     "output_type": "execute_result"
    }
   ],
   "source": [
    "mer_movi_rat_user.nunique()#/len(mer_movi_rat_user)"
   ]
  },
  {
   "cell_type": "code",
   "execution_count": 36,
   "metadata": {},
   "outputs": [
    {
     "data": {
      "text/plain": [
       "UserID         int64\n",
       "MovieID        int64\n",
       "Rating         int64\n",
       "Title         object\n",
       "Genres        object\n",
       "Gender        object\n",
       "Age            int64\n",
       "Occupation     int64\n",
       "dtype: object"
      ]
     },
     "execution_count": 36,
     "metadata": {},
     "output_type": "execute_result"
    }
   ],
   "source": [
    "mer_movi_rat_user.dtypes"
   ]
  },
  {
   "cell_type": "markdown",
   "metadata": {},
   "source": [
    "# Separate column for each genre category one-hot encoding ( 1 and 0) \n",
    "# whether or not the movie belongs to that genre."
   ]
  },
  {
   "cell_type": "code",
   "execution_count": 37,
   "metadata": {},
   "outputs": [],
   "source": [
    "for i in Genres_unique:\n",
    "    mer_movi_rat_user[i]=-1"
   ]
  },
  {
   "cell_type": "code",
   "execution_count": 38,
   "metadata": {},
   "outputs": [],
   "source": [
    "def get_Genres(x,i):\n",
    "    if i in x.split('|'):\n",
    "        return 'Yes'\n",
    "    else:\n",
    "        return 'No'\n",
    "for i in Genres_unique:\n",
    "    mer_movi_rat_user[i]=mer_movi_rat_user.Genres.apply(lambda x:get_Genres(x,i))"
   ]
  },
  {
   "cell_type": "code",
   "execution_count": 39,
   "metadata": {},
   "outputs": [
    {
     "data": {
      "text/plain": [
       "Index(['UserID', 'MovieID', 'Rating', 'Title', 'Genres', 'Gender', 'Age',\n",
       "       'Occupation', 'Action', 'Adventure', 'Animation', 'Children's',\n",
       "       'Comedy', 'Crime', 'Documentary', 'Drama', 'Fantasy', 'Film-Noir',\n",
       "       'Horror', 'Musical', 'Mystery', 'Romance', 'Sci-Fi', 'Thriller', 'War',\n",
       "       'Western'],\n",
       "      dtype='object')"
      ]
     },
     "execution_count": 39,
     "metadata": {},
     "output_type": "execute_result"
    }
   ],
   "source": [
    "mer_movi_rat_user.columns"
   ]
  },
  {
   "cell_type": "code",
   "execution_count": 40,
   "metadata": {},
   "outputs": [
    {
     "data": {
      "text/plain": [
       "UserID                           1\n",
       "MovieID                        914\n",
       "Rating                           3\n",
       "Title          My Fair Lady (1964)\n",
       "Genres             Musical|Romance\n",
       "Gender                           F\n",
       "Age                              1\n",
       "Occupation                      10\n",
       "Action                          No\n",
       "Adventure                       No\n",
       "Animation                       No\n",
       "Children's                      No\n",
       "Comedy                          No\n",
       "Crime                           No\n",
       "Documentary                     No\n",
       "Drama                           No\n",
       "Fantasy                         No\n",
       "Film-Noir                       No\n",
       "Horror                          No\n",
       "Musical                        Yes\n",
       "Mystery                         No\n",
       "Romance                        Yes\n",
       "Sci-Fi                          No\n",
       "Thriller                        No\n",
       "War                             No\n",
       "Western                         No\n",
       "Name: 2, dtype: object"
      ]
     },
     "execution_count": 40,
     "metadata": {},
     "output_type": "execute_result"
    }
   ],
   "source": [
    "mer_movi_rat_user.loc[2]"
   ]
  },
  {
   "cell_type": "code",
   "execution_count": 41,
   "metadata": {},
   "outputs": [],
   "source": [
    "mer_movi_rat_user['year'] = mer_movi_rat_user['Title'].apply(lambda x:str(x).split('(')[-1][:4])"
   ]
  },
  {
   "cell_type": "code",
   "execution_count": 42,
   "metadata": {},
   "outputs": [],
   "source": [
    "mer_movi_rat_user.drop(['Genres','MovieID','UserID','Title'],inplace=True,axis=1)"
   ]
  },
  {
   "cell_type": "code",
   "execution_count": 43,
   "metadata": {},
   "outputs": [
    {
     "data": {
      "text/plain": [
       "Index(['Rating', 'Gender', 'Age', 'Occupation', 'Action', 'Adventure',\n",
       "       'Animation', 'Children's', 'Comedy', 'Crime', 'Documentary', 'Drama',\n",
       "       'Fantasy', 'Film-Noir', 'Horror', 'Musical', 'Mystery', 'Romance',\n",
       "       'Sci-Fi', 'Thriller', 'War', 'Western', 'year'],\n",
       "      dtype='object')"
      ]
     },
     "execution_count": 43,
     "metadata": {},
     "output_type": "execute_result"
    }
   ],
   "source": [
    "mer_movi_rat_user.columns"
   ]
  },
  {
   "cell_type": "code",
   "execution_count": 44,
   "metadata": {},
   "outputs": [
    {
     "data": {
      "text/plain": [
       "25    395556\n",
       "35    199003\n",
       "18    183536\n",
       "45     83633\n",
       "50     72490\n",
       "56     38780\n",
       "1      27211\n",
       "Name: Age, dtype: int64"
      ]
     },
     "execution_count": 44,
     "metadata": {},
     "output_type": "execute_result"
    }
   ],
   "source": [
    "mer_movi_rat_user.Age.value_counts()"
   ]
  },
  {
   "cell_type": "code",
   "execution_count": 45,
   "metadata": {},
   "outputs": [],
   "source": [
    "# Age group Dictonary to link with Data\n",
    "Age_dict={1:'0-17',18:'18-24',25:'25-34',35:'35-44',45:'45-49',50:'50-55',56:'56-60'}\n",
    "# occupation dictonary to map with current data\n",
    "occ_dict ={0:\"other\",\n",
    "1:\"academic/educator\",\n",
    "2:\"artist\",\n",
    "3:\"clerical/admin\",\n",
    "4:\"college/grad student\",\n",
    "5:\"customer service\",\n",
    "6:\"doctor/health care\",\n",
    "7:\"executive/managerial\",\n",
    "8:\"farmer\",\n",
    "9:\"homemaker\",\n",
    "10:\"K-12 student\",\n",
    "11:\"lawyer\",\n",
    "12:\"programmer\",\n",
    "13:\"retired\",\n",
    "14: \"sales/marketing\",\n",
    "15:\"scientist\",\n",
    "16: \"self-employed\",\n",
    "17:\"technician/engineer\",\n",
    "18:\"tradesman/craftsman\",\n",
    "19:\"unemployed\",\n",
    "20:\"writer\"}"
   ]
  },
  {
   "cell_type": "code",
   "execution_count": 46,
   "metadata": {},
   "outputs": [],
   "source": [
    "mer_movi_rat_user['Age']=mer_movi_rat_user['Age'].map(Age_dict)\n",
    "mer_movi_rat_user['Occupation']=mer_movi_rat_user['Occupation'].map(occ_dict)"
   ]
  },
  {
   "cell_type": "code",
   "execution_count": 47,
   "metadata": {},
   "outputs": [],
   "source": [
    "# New Feature \n",
    "mer_movi_rat_user['Age_low']=mer_movi_rat_user['Age'].apply(lambda x : x.split('-')[0])\n",
    "mer_movi_rat_user['Age_high']=mer_movi_rat_user['Age'].apply(lambda x : x.split('-')[1])\n",
    "mer_movi_rat_user.drop(['Age'],axis=1,inplace=True)"
   ]
  },
  {
   "cell_type": "code",
   "execution_count": 48,
   "metadata": {},
   "outputs": [],
   "source": [
    "# Type conversion \n",
    "mer_movi_rat_user['Age_low'] = mer_movi_rat_user['Age_low'].astype(int)\n",
    "mer_movi_rat_user['Age_high'] = mer_movi_rat_user['Age_high'].astype(int)\n",
    "mer_movi_rat_user['Rating'] = mer_movi_rat_user['Rating'].astype(int)\n",
    "mer_movi_rat_user['year']=mer_movi_rat_user['year'].astype(int)"
   ]
  },
  {
   "cell_type": "code",
   "execution_count": 49,
   "metadata": {},
   "outputs": [
    {
     "data": {
      "text/plain": [
       "Rating          int32\n",
       "Gender         object\n",
       "Occupation     object\n",
       "Action         object\n",
       "Adventure      object\n",
       "Animation      object\n",
       "Children's     object\n",
       "Comedy         object\n",
       "Crime          object\n",
       "Documentary    object\n",
       "Drama          object\n",
       "Fantasy        object\n",
       "Film-Noir      object\n",
       "Horror         object\n",
       "Musical        object\n",
       "Mystery        object\n",
       "Romance        object\n",
       "Sci-Fi         object\n",
       "Thriller       object\n",
       "War            object\n",
       "Western        object\n",
       "year            int32\n",
       "Age_low         int32\n",
       "Age_high        int32\n",
       "dtype: object"
      ]
     },
     "execution_count": 49,
     "metadata": {},
     "output_type": "execute_result"
    }
   ],
   "source": [
    "mer_movi_rat_user.dtypes"
   ]
  },
  {
   "cell_type": "code",
   "execution_count": 50,
   "metadata": {},
   "outputs": [
    {
     "data": {
      "text/html": [
       "<div>\n",
       "<style scoped>\n",
       "    .dataframe tbody tr th:only-of-type {\n",
       "        vertical-align: middle;\n",
       "    }\n",
       "\n",
       "    .dataframe tbody tr th {\n",
       "        vertical-align: top;\n",
       "    }\n",
       "\n",
       "    .dataframe thead th {\n",
       "        text-align: right;\n",
       "    }\n",
       "</style>\n",
       "<table border=\"1\" class=\"dataframe\">\n",
       "  <thead>\n",
       "    <tr style=\"text-align: right;\">\n",
       "      <th></th>\n",
       "      <th>Rating</th>\n",
       "      <th>Gender</th>\n",
       "      <th>Occupation</th>\n",
       "      <th>Action</th>\n",
       "      <th>Adventure</th>\n",
       "      <th>Animation</th>\n",
       "      <th>Children's</th>\n",
       "      <th>Comedy</th>\n",
       "      <th>Crime</th>\n",
       "      <th>Documentary</th>\n",
       "      <th>...</th>\n",
       "      <th>Musical</th>\n",
       "      <th>Mystery</th>\n",
       "      <th>Romance</th>\n",
       "      <th>Sci-Fi</th>\n",
       "      <th>Thriller</th>\n",
       "      <th>War</th>\n",
       "      <th>Western</th>\n",
       "      <th>year</th>\n",
       "      <th>Age_low</th>\n",
       "      <th>Age_high</th>\n",
       "    </tr>\n",
       "  </thead>\n",
       "  <tbody>\n",
       "    <tr>\n",
       "      <td>621918</td>\n",
       "      <td>5</td>\n",
       "      <td>M</td>\n",
       "      <td>other</td>\n",
       "      <td>No</td>\n",
       "      <td>No</td>\n",
       "      <td>No</td>\n",
       "      <td>No</td>\n",
       "      <td>No</td>\n",
       "      <td>Yes</td>\n",
       "      <td>No</td>\n",
       "      <td>...</td>\n",
       "      <td>No</td>\n",
       "      <td>No</td>\n",
       "      <td>No</td>\n",
       "      <td>No</td>\n",
       "      <td>Yes</td>\n",
       "      <td>No</td>\n",
       "      <td>No</td>\n",
       "      <td>1995</td>\n",
       "      <td>25</td>\n",
       "      <td>34</td>\n",
       "    </tr>\n",
       "    <tr>\n",
       "      <td>639492</td>\n",
       "      <td>5</td>\n",
       "      <td>M</td>\n",
       "      <td>sales/marketing</td>\n",
       "      <td>Yes</td>\n",
       "      <td>No</td>\n",
       "      <td>No</td>\n",
       "      <td>No</td>\n",
       "      <td>No</td>\n",
       "      <td>No</td>\n",
       "      <td>No</td>\n",
       "      <td>...</td>\n",
       "      <td>No</td>\n",
       "      <td>No</td>\n",
       "      <td>No</td>\n",
       "      <td>No</td>\n",
       "      <td>Yes</td>\n",
       "      <td>No</td>\n",
       "      <td>No</td>\n",
       "      <td>1992</td>\n",
       "      <td>25</td>\n",
       "      <td>34</td>\n",
       "    </tr>\n",
       "    <tr>\n",
       "      <td>398157</td>\n",
       "      <td>3</td>\n",
       "      <td>M</td>\n",
       "      <td>writer</td>\n",
       "      <td>No</td>\n",
       "      <td>No</td>\n",
       "      <td>No</td>\n",
       "      <td>No</td>\n",
       "      <td>No</td>\n",
       "      <td>No</td>\n",
       "      <td>No</td>\n",
       "      <td>...</td>\n",
       "      <td>No</td>\n",
       "      <td>No</td>\n",
       "      <td>No</td>\n",
       "      <td>Yes</td>\n",
       "      <td>No</td>\n",
       "      <td>No</td>\n",
       "      <td>No</td>\n",
       "      <td>1988</td>\n",
       "      <td>25</td>\n",
       "      <td>34</td>\n",
       "    </tr>\n",
       "    <tr>\n",
       "      <td>945416</td>\n",
       "      <td>3</td>\n",
       "      <td>M</td>\n",
       "      <td>technician/engineer</td>\n",
       "      <td>Yes</td>\n",
       "      <td>Yes</td>\n",
       "      <td>No</td>\n",
       "      <td>No</td>\n",
       "      <td>No</td>\n",
       "      <td>No</td>\n",
       "      <td>No</td>\n",
       "      <td>...</td>\n",
       "      <td>No</td>\n",
       "      <td>No</td>\n",
       "      <td>No</td>\n",
       "      <td>Yes</td>\n",
       "      <td>Yes</td>\n",
       "      <td>No</td>\n",
       "      <td>No</td>\n",
       "      <td>1989</td>\n",
       "      <td>56</td>\n",
       "      <td>60</td>\n",
       "    </tr>\n",
       "    <tr>\n",
       "      <td>851247</td>\n",
       "      <td>3</td>\n",
       "      <td>M</td>\n",
       "      <td>academic/educator</td>\n",
       "      <td>No</td>\n",
       "      <td>No</td>\n",
       "      <td>No</td>\n",
       "      <td>No</td>\n",
       "      <td>No</td>\n",
       "      <td>No</td>\n",
       "      <td>No</td>\n",
       "      <td>...</td>\n",
       "      <td>No</td>\n",
       "      <td>No</td>\n",
       "      <td>Yes</td>\n",
       "      <td>No</td>\n",
       "      <td>No</td>\n",
       "      <td>No</td>\n",
       "      <td>No</td>\n",
       "      <td>1998</td>\n",
       "      <td>25</td>\n",
       "      <td>34</td>\n",
       "    </tr>\n",
       "  </tbody>\n",
       "</table>\n",
       "<p>5 rows × 24 columns</p>\n",
       "</div>"
      ],
      "text/plain": [
       "        Rating Gender           Occupation Action Adventure Animation  \\\n",
       "621918       5      M                other     No        No        No   \n",
       "639492       5      M      sales/marketing    Yes        No        No   \n",
       "398157       3      M               writer     No        No        No   \n",
       "945416       3      M  technician/engineer    Yes       Yes        No   \n",
       "851247       3      M    academic/educator     No        No        No   \n",
       "\n",
       "       Children's Comedy Crime Documentary  ... Musical Mystery Romance  \\\n",
       "621918         No     No   Yes          No  ...      No      No      No   \n",
       "639492         No     No    No          No  ...      No      No      No   \n",
       "398157         No     No    No          No  ...      No      No      No   \n",
       "945416         No     No    No          No  ...      No      No      No   \n",
       "851247         No     No    No          No  ...      No      No     Yes   \n",
       "\n",
       "       Sci-Fi Thriller War Western  year Age_low Age_high  \n",
       "621918     No      Yes  No      No  1995      25       34  \n",
       "639492     No      Yes  No      No  1992      25       34  \n",
       "398157    Yes       No  No      No  1988      25       34  \n",
       "945416    Yes      Yes  No      No  1989      56       60  \n",
       "851247     No       No  No      No  1998      25       34  \n",
       "\n",
       "[5 rows x 24 columns]"
      ]
     },
     "execution_count": 50,
     "metadata": {},
     "output_type": "execute_result"
    }
   ],
   "source": [
    "mer_movi_rat_user.sample(5)"
   ]
  },
  {
   "cell_type": "code",
   "execution_count": 51,
   "metadata": {},
   "outputs": [
    {
     "data": {
      "text/plain": [
       "Rating          5\n",
       "Gender          2\n",
       "Occupation     21\n",
       "Action          2\n",
       "Adventure       2\n",
       "Animation       2\n",
       "Children's      2\n",
       "Comedy          2\n",
       "Crime           2\n",
       "Documentary     2\n",
       "Drama           2\n",
       "Fantasy         2\n",
       "Film-Noir       2\n",
       "Horror          2\n",
       "Musical         2\n",
       "Mystery         2\n",
       "Romance         2\n",
       "Sci-Fi          2\n",
       "Thriller        2\n",
       "War             2\n",
       "Western         2\n",
       "year           81\n",
       "Age_low         7\n",
       "Age_high        7\n",
       "dtype: int64"
      ]
     },
     "execution_count": 51,
     "metadata": {},
     "output_type": "execute_result"
    }
   ],
   "source": [
    "mer_movi_rat_user.nunique()"
   ]
  },
  {
   "cell_type": "code",
   "execution_count": 52,
   "metadata": {},
   "outputs": [],
   "source": [
    "num_list = mer_movi_rat_user._get_numeric_data().columns"
   ]
  },
  {
   "cell_type": "code",
   "execution_count": 53,
   "metadata": {},
   "outputs": [
    {
     "data": {
      "text/plain": [
       "4"
      ]
     },
     "execution_count": 53,
     "metadata": {},
     "output_type": "execute_result"
    }
   ],
   "source": [
    "len(num_list)"
   ]
  },
  {
   "cell_type": "code",
   "execution_count": 54,
   "metadata": {},
   "outputs": [],
   "source": [
    "cat_list = mer_movi_rat_user.select_dtypes(include=object).columns"
   ]
  },
  {
   "cell_type": "code",
   "execution_count": 55,
   "metadata": {},
   "outputs": [
    {
     "data": {
      "text/plain": [
       "20"
      ]
     },
     "execution_count": 55,
     "metadata": {},
     "output_type": "execute_result"
    }
   ],
   "source": [
    "len(cat_list)"
   ]
  },
  {
   "cell_type": "code",
   "execution_count": 56,
   "metadata": {},
   "outputs": [
    {
     "data": {
      "text/plain": [
       "24"
      ]
     },
     "execution_count": 56,
     "metadata": {},
     "output_type": "execute_result"
    }
   ],
   "source": [
    "len(mer_movi_rat_user.columns)"
   ]
  },
  {
   "cell_type": "code",
   "execution_count": 57,
   "metadata": {},
   "outputs": [
    {
     "data": {
      "text/plain": [
       "True"
      ]
     },
     "execution_count": 57,
     "metadata": {},
     "output_type": "execute_result"
    }
   ],
   "source": [
    "len(mer_movi_rat_user.columns) == len(num_list) + len(cat_list)"
   ]
  },
  {
   "cell_type": "code",
   "execution_count": 58,
   "metadata": {},
   "outputs": [],
   "source": [
    "#2.\tCreate a separate column for each genre category with a one-hot encoding ( 1 and 0) whether or not the movie belongs to that genre. \n",
    "from sklearn.preprocessing import OneHotEncoder\n",
    "op = OneHotEncoder(drop='first')\n",
    "op_data=op.fit_transform(mer_movi_rat_user[cat_list]).toarray()\n",
    "new_fea= op.get_feature_names()"
   ]
  },
  {
   "cell_type": "code",
   "execution_count": 59,
   "metadata": {},
   "outputs": [
    {
     "data": {
      "text/plain": [
       "Index(['Gender', 'Occupation', 'Action', 'Adventure', 'Animation',\n",
       "       'Children's', 'Comedy', 'Crime', 'Documentary', 'Drama', 'Fantasy',\n",
       "       'Film-Noir', 'Horror', 'Musical', 'Mystery', 'Romance', 'Sci-Fi',\n",
       "       'Thriller', 'War', 'Western'],\n",
       "      dtype='object')"
      ]
     },
     "execution_count": 59,
     "metadata": {},
     "output_type": "execute_result"
    }
   ],
   "source": [
    "mer_movi_rat_user[cat_list].columns"
   ]
  },
  {
   "cell_type": "code",
   "execution_count": 60,
   "metadata": {},
   "outputs": [
    {
     "data": {
      "text/plain": [
       "[array(['F', 'M'], dtype=object),\n",
       " array(['K-12 student', 'academic/educator', 'artist', 'clerical/admin',\n",
       "        'college/grad student', 'customer service', 'doctor/health care',\n",
       "        'executive/managerial', 'farmer', 'homemaker', 'lawyer', 'other',\n",
       "        'programmer', 'retired', 'sales/marketing', 'scientist',\n",
       "        'self-employed', 'technician/engineer', 'tradesman/craftsman',\n",
       "        'unemployed', 'writer'], dtype=object),\n",
       " array(['No', 'Yes'], dtype=object),\n",
       " array(['No', 'Yes'], dtype=object),\n",
       " array(['No', 'Yes'], dtype=object),\n",
       " array(['No', 'Yes'], dtype=object),\n",
       " array(['No', 'Yes'], dtype=object),\n",
       " array(['No', 'Yes'], dtype=object),\n",
       " array(['No', 'Yes'], dtype=object),\n",
       " array(['No', 'Yes'], dtype=object),\n",
       " array(['No', 'Yes'], dtype=object),\n",
       " array(['No', 'Yes'], dtype=object),\n",
       " array(['No', 'Yes'], dtype=object),\n",
       " array(['No', 'Yes'], dtype=object),\n",
       " array(['No', 'Yes'], dtype=object),\n",
       " array(['No', 'Yes'], dtype=object),\n",
       " array(['No', 'Yes'], dtype=object),\n",
       " array(['No', 'Yes'], dtype=object),\n",
       " array(['No', 'Yes'], dtype=object),\n",
       " array(['No', 'Yes'], dtype=object)]"
      ]
     },
     "execution_count": 60,
     "metadata": {},
     "output_type": "execute_result"
    }
   ],
   "source": [
    "op.categories_"
   ]
  },
  {
   "cell_type": "code",
   "execution_count": 61,
   "metadata": {},
   "outputs": [],
   "source": [
    "final_data= pd.concat([pd.DataFrame(op_data,columns=new_fea),mer_movi_rat_user[num_list]],axis=1)"
   ]
  },
  {
   "cell_type": "code",
   "execution_count": 62,
   "metadata": {},
   "outputs": [
    {
     "data": {
      "text/plain": [
       "x0_M                       0\n",
       "x1_academic/educator       0\n",
       "x1_artist                  0\n",
       "x1_clerical/admin          0\n",
       "x1_college/grad student    0\n",
       "x1_customer service        0\n",
       "x1_doctor/health care      0\n",
       "x1_executive/managerial    0\n",
       "x1_farmer                  0\n",
       "x1_homemaker               0\n",
       "x1_lawyer                  0\n",
       "x1_other                   0\n",
       "x1_programmer              0\n",
       "x1_retired                 0\n",
       "x1_sales/marketing         0\n",
       "x1_scientist               0\n",
       "x1_self-employed           0\n",
       "x1_technician/engineer     0\n",
       "x1_tradesman/craftsman     0\n",
       "x1_unemployed              0\n",
       "x1_writer                  0\n",
       "x2_Yes                     0\n",
       "x3_Yes                     0\n",
       "x4_Yes                     0\n",
       "x5_Yes                     0\n",
       "x6_Yes                     0\n",
       "x7_Yes                     0\n",
       "x8_Yes                     0\n",
       "x9_Yes                     0\n",
       "x10_Yes                    0\n",
       "x11_Yes                    0\n",
       "x12_Yes                    0\n",
       "x13_Yes                    0\n",
       "x14_Yes                    0\n",
       "x15_Yes                    0\n",
       "x16_Yes                    0\n",
       "x17_Yes                    0\n",
       "x18_Yes                    0\n",
       "x19_Yes                    0\n",
       "Rating                     0\n",
       "year                       0\n",
       "Age_low                    0\n",
       "Age_high                   0\n",
       "dtype: int64"
      ]
     },
     "execution_count": 62,
     "metadata": {},
     "output_type": "execute_result"
    }
   ],
   "source": [
    "final_data.isna().sum()"
   ]
  },
  {
   "cell_type": "code",
   "execution_count": 63,
   "metadata": {},
   "outputs": [],
   "source": [
    "# ------ comment ---------\n"
   ]
  },
  {
   "cell_type": "markdown",
   "metadata": {},
   "source": [
    "# Develop an appropriate model to predict the movie ratings"
   ]
  },
  {
   "cell_type": "code",
   "execution_count": 64,
   "metadata": {},
   "outputs": [],
   "source": [
    "from sklearn.linear_model import LogisticRegression\n",
    "from sklearn.ensemble import RandomForestClassifier\n",
    "from sklearn.model_selection import train_test_split"
   ]
  },
  {
   "cell_type": "code",
   "execution_count": 65,
   "metadata": {},
   "outputs": [
    {
     "data": {
      "text/plain": [
       "x0_M                       float64\n",
       "x1_academic/educator       float64\n",
       "x1_artist                  float64\n",
       "x1_clerical/admin          float64\n",
       "x1_college/grad student    float64\n",
       "x1_customer service        float64\n",
       "x1_doctor/health care      float64\n",
       "x1_executive/managerial    float64\n",
       "x1_farmer                  float64\n",
       "x1_homemaker               float64\n",
       "x1_lawyer                  float64\n",
       "x1_other                   float64\n",
       "x1_programmer              float64\n",
       "x1_retired                 float64\n",
       "x1_sales/marketing         float64\n",
       "x1_scientist               float64\n",
       "x1_self-employed           float64\n",
       "x1_technician/engineer     float64\n",
       "x1_tradesman/craftsman     float64\n",
       "x1_unemployed              float64\n",
       "x1_writer                  float64\n",
       "x2_Yes                     float64\n",
       "x3_Yes                     float64\n",
       "x4_Yes                     float64\n",
       "x5_Yes                     float64\n",
       "x6_Yes                     float64\n",
       "x7_Yes                     float64\n",
       "x8_Yes                     float64\n",
       "x9_Yes                     float64\n",
       "x10_Yes                    float64\n",
       "x11_Yes                    float64\n",
       "x12_Yes                    float64\n",
       "x13_Yes                    float64\n",
       "x14_Yes                    float64\n",
       "x15_Yes                    float64\n",
       "x16_Yes                    float64\n",
       "x17_Yes                    float64\n",
       "x18_Yes                    float64\n",
       "x19_Yes                    float64\n",
       "Rating                       int32\n",
       "year                         int32\n",
       "Age_low                      int32\n",
       "Age_high                     int32\n",
       "dtype: object"
      ]
     },
     "execution_count": 65,
     "metadata": {},
     "output_type": "execute_result"
    }
   ],
   "source": [
    "# final Variable list\n",
    "final_data.dtypes"
   ]
  },
  {
   "cell_type": "code",
   "execution_count": 66,
   "metadata": {},
   "outputs": [
    {
     "data": {
      "text/plain": [
       "x0_M                        2\n",
       "x4_Yes                      2\n",
       "x5_Yes                      2\n",
       "x6_Yes                      2\n",
       "x7_Yes                      2\n",
       "x8_Yes                      2\n",
       "x9_Yes                      2\n",
       "x10_Yes                     2\n",
       "x3_Yes                      2\n",
       "x11_Yes                     2\n",
       "x13_Yes                     2\n",
       "x14_Yes                     2\n",
       "x15_Yes                     2\n",
       "x16_Yes                     2\n",
       "x17_Yes                     2\n",
       "x18_Yes                     2\n",
       "x19_Yes                     2\n",
       "x12_Yes                     2\n",
       "x1_writer                   2\n",
       "x2_Yes                      2\n",
       "x1_tradesman/craftsman      2\n",
       "x1_academic/educator        2\n",
       "x1_artist                   2\n",
       "x1_clerical/admin           2\n",
       "x1_college/grad student     2\n",
       "x1_customer service         2\n",
       "x1_doctor/health care       2\n",
       "x1_executive/managerial     2\n",
       "x1_unemployed               2\n",
       "x1_homemaker                2\n",
       "x1_farmer                   2\n",
       "x1_other                    2\n",
       "x1_programmer               2\n",
       "x1_retired                  2\n",
       "x1_sales/marketing          2\n",
       "x1_scientist                2\n",
       "x1_self-employed            2\n",
       "x1_technician/engineer      2\n",
       "x1_lawyer                   2\n",
       "Rating                      5\n",
       "Age_low                     7\n",
       "Age_high                    7\n",
       "year                       81\n",
       "dtype: int64"
      ]
     },
     "execution_count": 66,
     "metadata": {},
     "output_type": "execute_result"
    }
   ],
   "source": [
    "final_data.nunique().sort_values()"
   ]
  },
  {
   "cell_type": "code",
   "execution_count": 67,
   "metadata": {},
   "outputs": [
    {
     "data": {
      "text/plain": [
       "(1000209, 43)"
      ]
     },
     "execution_count": 67,
     "metadata": {},
     "output_type": "execute_result"
    }
   ],
   "source": [
    "final_data.shape"
   ]
  },
  {
   "cell_type": "code",
   "execution_count": 68,
   "metadata": {},
   "outputs": [],
   "source": [
    "# over sampling becouse of inblace data for rating 1 and 2\n",
    "final_data = pd.concat([final_data,final_data[final_data['Rating']==1]],axis=0)\n",
    "final_data = pd.concat([final_data,final_data[final_data['Rating']==1]],axis=0)\n",
    "final_data = pd.concat([final_data,final_data[final_data['Rating']==2]],axis=0)"
   ]
  },
  {
   "cell_type": "code",
   "execution_count": 69,
   "metadata": {},
   "outputs": [
    {
     "data": {
      "text/plain": [
       "(1276288, 43)"
      ]
     },
     "execution_count": 69,
     "metadata": {},
     "output_type": "execute_result"
    }
   ],
   "source": [
    "final_data.shape"
   ]
  },
  {
   "cell_type": "code",
   "execution_count": 70,
   "metadata": {},
   "outputs": [
    {
     "data": {
      "text/plain": [
       "4    348971\n",
       "3    261197\n",
       "5    226310\n",
       "1    224696\n",
       "2    215114\n",
       "Name: Rating, dtype: int64"
      ]
     },
     "execution_count": 70,
     "metadata": {},
     "output_type": "execute_result"
    }
   ],
   "source": [
    "final_data['Rating'].value_counts()"
   ]
  },
  {
   "cell_type": "code",
   "execution_count": 71,
   "metadata": {},
   "outputs": [],
   "source": [
    "# manual ----> parameter \n",
    "model = RandomForestClassifier(n_estimators=400,max_leaf_nodes=20,class_weight='balanced',max_depth=30)\n",
    "# need to retune and use GridSearchCV  to select correct parameter"
   ]
  },
  {
   "cell_type": "code",
   "execution_count": 72,
   "metadata": {},
   "outputs": [],
   "source": [
    "x_train,x_test,y_train,y_test = train_test_split(final_data.drop('Rating',axis=1),final_data['Rating'],test_size=0.2)"
   ]
  },
  {
   "cell_type": "code",
   "execution_count": 73,
   "metadata": {},
   "outputs": [
    {
     "data": {
      "text/plain": [
       "4    279089\n",
       "3    209137\n",
       "5    180836\n",
       "1    179582\n",
       "2    172386\n",
       "Name: Rating, dtype: int64"
      ]
     },
     "execution_count": 73,
     "metadata": {},
     "output_type": "execute_result"
    }
   ],
   "source": [
    "y_train.value_counts()"
   ]
  },
  {
   "cell_type": "code",
   "execution_count": 74,
   "metadata": {},
   "outputs": [
    {
     "data": {
      "text/plain": [
       "4    69882\n",
       "3    52060\n",
       "5    45474\n",
       "1    45114\n",
       "2    42728\n",
       "Name: Rating, dtype: int64"
      ]
     },
     "execution_count": 74,
     "metadata": {},
     "output_type": "execute_result"
    }
   ],
   "source": [
    "y_test.value_counts()"
   ]
  },
  {
   "cell_type": "code",
   "execution_count": 75,
   "metadata": {},
   "outputs": [
    {
     "data": {
      "text/plain": [
       "RandomForestClassifier(bootstrap=True, class_weight='balanced',\n",
       "                       criterion='gini', max_depth=30, max_features='auto',\n",
       "                       max_leaf_nodes=20, min_impurity_decrease=0.0,\n",
       "                       min_impurity_split=None, min_samples_leaf=1,\n",
       "                       min_samples_split=2, min_weight_fraction_leaf=0.0,\n",
       "                       n_estimators=400, n_jobs=None, oob_score=False,\n",
       "                       random_state=None, verbose=0, warm_start=False)"
      ]
     },
     "execution_count": 75,
     "metadata": {},
     "output_type": "execute_result"
    }
   ],
   "source": [
    "model.fit(x_train,y_train)"
   ]
  },
  {
   "cell_type": "code",
   "execution_count": 76,
   "metadata": {},
   "outputs": [],
   "source": [
    "predict = model.predict(x_test)"
   ]
  },
  {
   "cell_type": "code",
   "execution_count": 77,
   "metadata": {},
   "outputs": [
    {
     "data": {
      "text/plain": [
       "array([1, 2, 3, 4, 5])"
      ]
     },
     "execution_count": 77,
     "metadata": {},
     "output_type": "execute_result"
    }
   ],
   "source": [
    "np.unique(predict)"
   ]
  },
  {
   "cell_type": "code",
   "execution_count": 78,
   "metadata": {},
   "outputs": [],
   "source": [
    "from sklearn.metrics import confusion_matrix,accuracy_score"
   ]
  },
  {
   "cell_type": "code",
   "execution_count": 79,
   "metadata": {},
   "outputs": [
    {
     "data": {
      "text/plain": [
       "array([[24926, 19001, 18276, 19675,  9799],\n",
       "       [ 5137,  5815,  6657,  7456,  3641],\n",
       "       [ 2701,  3200,  4323,  5359,  2978],\n",
       "       [ 2687,  3575,  4930,  6853,  3772],\n",
       "       [ 9670, 11372, 18074, 30379, 25002]], dtype=int64)"
      ]
     },
     "execution_count": 79,
     "metadata": {},
     "output_type": "execute_result"
    }
   ],
   "source": [
    "confusion_matrix(predict,y_test)"
   ]
  },
  {
   "cell_type": "code",
   "execution_count": 80,
   "metadata": {},
   "outputs": [
    {
     "data": {
      "text/plain": [
       "0.26216220451464795"
      ]
     },
     "execution_count": 80,
     "metadata": {},
     "output_type": "execute_result"
    }
   ],
   "source": [
    "accuracy_score(predict,y_test)"
   ]
  },
  {
   "cell_type": "code",
   "execution_count": null,
   "metadata": {},
   "outputs": [],
   "source": [
    "# ------ comment ---------\n"
   ]
  },
  {
   "cell_type": "markdown",
   "metadata": {},
   "source": [
    "# Determine the features affecting the ratings of any particular movie."
   ]
  },
  {
   "cell_type": "code",
   "execution_count": 82,
   "metadata": {},
   "outputs": [
    {
     "data": {
      "text/html": [
       "<div>\n",
       "<style scoped>\n",
       "    .dataframe tbody tr th:only-of-type {\n",
       "        vertical-align: middle;\n",
       "    }\n",
       "\n",
       "    .dataframe tbody tr th {\n",
       "        vertical-align: top;\n",
       "    }\n",
       "\n",
       "    .dataframe thead th {\n",
       "        text-align: right;\n",
       "    }\n",
       "</style>\n",
       "<table border=\"1\" class=\"dataframe\">\n",
       "  <thead>\n",
       "    <tr style=\"text-align: right;\">\n",
       "      <th></th>\n",
       "      <th>Feature Name</th>\n",
       "      <th>Feature_IMP</th>\n",
       "    </tr>\n",
       "  </thead>\n",
       "  <tbody>\n",
       "    <tr>\n",
       "      <td>0</td>\n",
       "      <td>x0_M</td>\n",
       "      <td>0.000568</td>\n",
       "    </tr>\n",
       "    <tr>\n",
       "      <td>1</td>\n",
       "      <td>x1_academic/educator</td>\n",
       "      <td>0.000000</td>\n",
       "    </tr>\n",
       "    <tr>\n",
       "      <td>2</td>\n",
       "      <td>x1_artist</td>\n",
       "      <td>0.000018</td>\n",
       "    </tr>\n",
       "    <tr>\n",
       "      <td>3</td>\n",
       "      <td>x1_clerical/admin</td>\n",
       "      <td>0.000000</td>\n",
       "    </tr>\n",
       "    <tr>\n",
       "      <td>4</td>\n",
       "      <td>x1_college/grad student</td>\n",
       "      <td>0.001395</td>\n",
       "    </tr>\n",
       "    <tr>\n",
       "      <td>5</td>\n",
       "      <td>x1_customer service</td>\n",
       "      <td>0.000237</td>\n",
       "    </tr>\n",
       "    <tr>\n",
       "      <td>6</td>\n",
       "      <td>x1_doctor/health care</td>\n",
       "      <td>0.001640</td>\n",
       "    </tr>\n",
       "    <tr>\n",
       "      <td>7</td>\n",
       "      <td>x1_executive/managerial</td>\n",
       "      <td>0.000030</td>\n",
       "    </tr>\n",
       "    <tr>\n",
       "      <td>8</td>\n",
       "      <td>x1_farmer</td>\n",
       "      <td>0.000000</td>\n",
       "    </tr>\n",
       "    <tr>\n",
       "      <td>9</td>\n",
       "      <td>x1_homemaker</td>\n",
       "      <td>0.000000</td>\n",
       "    </tr>\n",
       "    <tr>\n",
       "      <td>10</td>\n",
       "      <td>x1_lawyer</td>\n",
       "      <td>0.000023</td>\n",
       "    </tr>\n",
       "    <tr>\n",
       "      <td>11</td>\n",
       "      <td>x1_other</td>\n",
       "      <td>0.000451</td>\n",
       "    </tr>\n",
       "    <tr>\n",
       "      <td>12</td>\n",
       "      <td>x1_programmer</td>\n",
       "      <td>0.000253</td>\n",
       "    </tr>\n",
       "    <tr>\n",
       "      <td>13</td>\n",
       "      <td>x1_retired</td>\n",
       "      <td>0.000117</td>\n",
       "    </tr>\n",
       "    <tr>\n",
       "      <td>14</td>\n",
       "      <td>x1_sales/marketing</td>\n",
       "      <td>0.000107</td>\n",
       "    </tr>\n",
       "    <tr>\n",
       "      <td>15</td>\n",
       "      <td>x1_scientist</td>\n",
       "      <td>0.000112</td>\n",
       "    </tr>\n",
       "    <tr>\n",
       "      <td>16</td>\n",
       "      <td>x1_self-employed</td>\n",
       "      <td>0.000042</td>\n",
       "    </tr>\n",
       "    <tr>\n",
       "      <td>17</td>\n",
       "      <td>x1_technician/engineer</td>\n",
       "      <td>0.000395</td>\n",
       "    </tr>\n",
       "    <tr>\n",
       "      <td>18</td>\n",
       "      <td>x1_tradesman/craftsman</td>\n",
       "      <td>0.000000</td>\n",
       "    </tr>\n",
       "    <tr>\n",
       "      <td>19</td>\n",
       "      <td>x1_unemployed</td>\n",
       "      <td>0.001207</td>\n",
       "    </tr>\n",
       "    <tr>\n",
       "      <td>20</td>\n",
       "      <td>x1_writer</td>\n",
       "      <td>0.004191</td>\n",
       "    </tr>\n",
       "    <tr>\n",
       "      <td>21</td>\n",
       "      <td>x2_Yes</td>\n",
       "      <td>0.025068</td>\n",
       "    </tr>\n",
       "    <tr>\n",
       "      <td>22</td>\n",
       "      <td>x3_Yes</td>\n",
       "      <td>0.010099</td>\n",
       "    </tr>\n",
       "    <tr>\n",
       "      <td>23</td>\n",
       "      <td>x4_Yes</td>\n",
       "      <td>0.015469</td>\n",
       "    </tr>\n",
       "    <tr>\n",
       "      <td>24</td>\n",
       "      <td>x5_Yes</td>\n",
       "      <td>0.027401</td>\n",
       "    </tr>\n",
       "    <tr>\n",
       "      <td>25</td>\n",
       "      <td>x6_Yes</td>\n",
       "      <td>0.013142</td>\n",
       "    </tr>\n",
       "    <tr>\n",
       "      <td>26</td>\n",
       "      <td>x7_Yes</td>\n",
       "      <td>0.009675</td>\n",
       "    </tr>\n",
       "    <tr>\n",
       "      <td>27</td>\n",
       "      <td>x8_Yes</td>\n",
       "      <td>0.007273</td>\n",
       "    </tr>\n",
       "    <tr>\n",
       "      <td>28</td>\n",
       "      <td>x9_Yes</td>\n",
       "      <td>0.195551</td>\n",
       "    </tr>\n",
       "    <tr>\n",
       "      <td>29</td>\n",
       "      <td>x10_Yes</td>\n",
       "      <td>0.004039</td>\n",
       "    </tr>\n",
       "    <tr>\n",
       "      <td>30</td>\n",
       "      <td>x11_Yes</td>\n",
       "      <td>0.034267</td>\n",
       "    </tr>\n",
       "    <tr>\n",
       "      <td>31</td>\n",
       "      <td>x12_Yes</td>\n",
       "      <td>0.131869</td>\n",
       "    </tr>\n",
       "    <tr>\n",
       "      <td>32</td>\n",
       "      <td>x13_Yes</td>\n",
       "      <td>0.002750</td>\n",
       "    </tr>\n",
       "    <tr>\n",
       "      <td>33</td>\n",
       "      <td>x14_Yes</td>\n",
       "      <td>0.003896</td>\n",
       "    </tr>\n",
       "    <tr>\n",
       "      <td>34</td>\n",
       "      <td>x15_Yes</td>\n",
       "      <td>0.014630</td>\n",
       "    </tr>\n",
       "    <tr>\n",
       "      <td>35</td>\n",
       "      <td>x16_Yes</td>\n",
       "      <td>0.016874</td>\n",
       "    </tr>\n",
       "    <tr>\n",
       "      <td>36</td>\n",
       "      <td>x17_Yes</td>\n",
       "      <td>0.007779</td>\n",
       "    </tr>\n",
       "    <tr>\n",
       "      <td>37</td>\n",
       "      <td>x18_Yes</td>\n",
       "      <td>0.047795</td>\n",
       "    </tr>\n",
       "    <tr>\n",
       "      <td>38</td>\n",
       "      <td>x19_Yes</td>\n",
       "      <td>0.001393</td>\n",
       "    </tr>\n",
       "    <tr>\n",
       "      <td>39</td>\n",
       "      <td>year</td>\n",
       "      <td>0.346886</td>\n",
       "    </tr>\n",
       "    <tr>\n",
       "      <td>40</td>\n",
       "      <td>Age_low</td>\n",
       "      <td>0.036677</td>\n",
       "    </tr>\n",
       "    <tr>\n",
       "      <td>41</td>\n",
       "      <td>Age_high</td>\n",
       "      <td>0.036683</td>\n",
       "    </tr>\n",
       "  </tbody>\n",
       "</table>\n",
       "</div>"
      ],
      "text/plain": [
       "               Feature Name  Feature_IMP\n",
       "0                      x0_M     0.000568\n",
       "1      x1_academic/educator     0.000000\n",
       "2                 x1_artist     0.000018\n",
       "3         x1_clerical/admin     0.000000\n",
       "4   x1_college/grad student     0.001395\n",
       "5       x1_customer service     0.000237\n",
       "6     x1_doctor/health care     0.001640\n",
       "7   x1_executive/managerial     0.000030\n",
       "8                 x1_farmer     0.000000\n",
       "9              x1_homemaker     0.000000\n",
       "10                x1_lawyer     0.000023\n",
       "11                 x1_other     0.000451\n",
       "12            x1_programmer     0.000253\n",
       "13               x1_retired     0.000117\n",
       "14       x1_sales/marketing     0.000107\n",
       "15             x1_scientist     0.000112\n",
       "16         x1_self-employed     0.000042\n",
       "17   x1_technician/engineer     0.000395\n",
       "18   x1_tradesman/craftsman     0.000000\n",
       "19            x1_unemployed     0.001207\n",
       "20                x1_writer     0.004191\n",
       "21                   x2_Yes     0.025068\n",
       "22                   x3_Yes     0.010099\n",
       "23                   x4_Yes     0.015469\n",
       "24                   x5_Yes     0.027401\n",
       "25                   x6_Yes     0.013142\n",
       "26                   x7_Yes     0.009675\n",
       "27                   x8_Yes     0.007273\n",
       "28                   x9_Yes     0.195551\n",
       "29                  x10_Yes     0.004039\n",
       "30                  x11_Yes     0.034267\n",
       "31                  x12_Yes     0.131869\n",
       "32                  x13_Yes     0.002750\n",
       "33                  x14_Yes     0.003896\n",
       "34                  x15_Yes     0.014630\n",
       "35                  x16_Yes     0.016874\n",
       "36                  x17_Yes     0.007779\n",
       "37                  x18_Yes     0.047795\n",
       "38                  x19_Yes     0.001393\n",
       "39                     year     0.346886\n",
       "40                  Age_low     0.036677\n",
       "41                 Age_high     0.036683"
      ]
     },
     "execution_count": 82,
     "metadata": {},
     "output_type": "execute_result"
    }
   ],
   "source": [
    "pd.DataFrame({'Feature Name':x_train.columns,'Feature_IMP':model.feature_importances_})"
   ]
  },
  {
   "cell_type": "code",
   "execution_count": null,
   "metadata": {},
   "outputs": [],
   "source": [
    "# ------ comment ---------\n"
   ]
  },
  {
   "cell_type": "markdown",
   "metadata": {},
   "source": [
    "# Model 0.2v\n",
    "        -- xgboost "
   ]
  },
  {
   "cell_type": "code",
   "execution_count": 84,
   "metadata": {},
   "outputs": [],
   "source": [
    "from xgboost import XGBClassifier"
   ]
  },
  {
   "cell_type": "code",
   "execution_count": 86,
   "metadata": {},
   "outputs": [
    {
     "data": {
      "text/plain": [
       "(1276288, 43)"
      ]
     },
     "execution_count": 86,
     "metadata": {},
     "output_type": "execute_result"
    }
   ],
   "source": [
    "final_data.shape"
   ]
  },
  {
   "cell_type": "code",
   "execution_count": 88,
   "metadata": {},
   "outputs": [],
   "source": [
    "x_train,x_test,y_train,y_test = train_test_split(final_data.drop('Rating',axis=1),final_data['Rating'],test_size=0.2)"
   ]
  },
  {
   "cell_type": "code",
   "execution_count": 87,
   "metadata": {},
   "outputs": [],
   "source": [
    "model = XGBClassifier(max_depth=30 ,learning_rate=.01,min_child_weight=20)"
   ]
  },
  {
   "cell_type": "code",
   "execution_count": 89,
   "metadata": {},
   "outputs": [
    {
     "data": {
      "text/plain": [
       "XGBClassifier(base_score=0.5, booster=None, colsample_bylevel=1,\n",
       "              colsample_bynode=1, colsample_bytree=1, gamma=0, gpu_id=-1,\n",
       "              importance_type='gain', interaction_constraints=None,\n",
       "              learning_rate=0.01, max_delta_step=0, max_depth=30,\n",
       "              min_child_weight=20, missing=nan, monotone_constraints=None,\n",
       "              n_estimators=100, n_jobs=0, num_parallel_tree=1,\n",
       "              objective='multi:softprob', random_state=0, reg_alpha=0,\n",
       "              reg_lambda=1, scale_pos_weight=None, subsample=1,\n",
       "              tree_method=None, validate_parameters=False, verbosity=None)"
      ]
     },
     "execution_count": 89,
     "metadata": {},
     "output_type": "execute_result"
    }
   ],
   "source": [
    "model.fit(x_train,y_train)"
   ]
  },
  {
   "cell_type": "code",
   "execution_count": 90,
   "metadata": {},
   "outputs": [
    {
     "data": {
      "text/plain": [
       "array([[16119, 15506, 18795, 24935, 16322],\n",
       "       [ 5060,  4815,  5858,  7876,  5097],\n",
       "       [ 3288,  3139,  3737,  5187,  3210],\n",
       "       [ 3795,  3759,  4425,  5912,  3926],\n",
       "       [16798, 15918, 19403, 25671, 16707]], dtype=int64)"
      ]
     },
     "execution_count": 90,
     "metadata": {},
     "output_type": "execute_result"
    }
   ],
   "source": [
    "confusion_matrix(predict,y_test)"
   ]
  },
  {
   "cell_type": "code",
   "execution_count": 91,
   "metadata": {},
   "outputs": [
    {
     "data": {
      "text/plain": [
       "0.18526353728384615"
      ]
     },
     "execution_count": 91,
     "metadata": {},
     "output_type": "execute_result"
    }
   ],
   "source": [
    "accuracy_score(predict,y_test)"
   ]
  },
  {
   "cell_type": "code",
   "execution_count": null,
   "metadata": {},
   "outputs": [],
   "source": []
  },
  {
   "cell_type": "code",
   "execution_count": 92,
   "metadata": {},
   "outputs": [
    {
     "data": {
      "text/html": [
       "<div>\n",
       "<style scoped>\n",
       "    .dataframe tbody tr th:only-of-type {\n",
       "        vertical-align: middle;\n",
       "    }\n",
       "\n",
       "    .dataframe tbody tr th {\n",
       "        vertical-align: top;\n",
       "    }\n",
       "\n",
       "    .dataframe thead th {\n",
       "        text-align: right;\n",
       "    }\n",
       "</style>\n",
       "<table border=\"1\" class=\"dataframe\">\n",
       "  <thead>\n",
       "    <tr style=\"text-align: right;\">\n",
       "      <th></th>\n",
       "      <th>Feature Name</th>\n",
       "      <th>Feature_IMP</th>\n",
       "    </tr>\n",
       "  </thead>\n",
       "  <tbody>\n",
       "    <tr>\n",
       "      <td>31</td>\n",
       "      <td>x12_Yes</td>\n",
       "      <td>0.170525</td>\n",
       "    </tr>\n",
       "    <tr>\n",
       "      <td>28</td>\n",
       "      <td>x9_Yes</td>\n",
       "      <td>0.093290</td>\n",
       "    </tr>\n",
       "    <tr>\n",
       "      <td>27</td>\n",
       "      <td>x8_Yes</td>\n",
       "      <td>0.082686</td>\n",
       "    </tr>\n",
       "    <tr>\n",
       "      <td>30</td>\n",
       "      <td>x11_Yes</td>\n",
       "      <td>0.060229</td>\n",
       "    </tr>\n",
       "    <tr>\n",
       "      <td>24</td>\n",
       "      <td>x5_Yes</td>\n",
       "      <td>0.056444</td>\n",
       "    </tr>\n",
       "    <tr>\n",
       "      <td>23</td>\n",
       "      <td>x4_Yes</td>\n",
       "      <td>0.051308</td>\n",
       "    </tr>\n",
       "    <tr>\n",
       "      <td>37</td>\n",
       "      <td>x18_Yes</td>\n",
       "      <td>0.041304</td>\n",
       "    </tr>\n",
       "    <tr>\n",
       "      <td>34</td>\n",
       "      <td>x15_Yes</td>\n",
       "      <td>0.032774</td>\n",
       "    </tr>\n",
       "    <tr>\n",
       "      <td>35</td>\n",
       "      <td>x16_Yes</td>\n",
       "      <td>0.029892</td>\n",
       "    </tr>\n",
       "    <tr>\n",
       "      <td>29</td>\n",
       "      <td>x10_Yes</td>\n",
       "      <td>0.027705</td>\n",
       "    </tr>\n",
       "    <tr>\n",
       "      <td>38</td>\n",
       "      <td>x19_Yes</td>\n",
       "      <td>0.026561</td>\n",
       "    </tr>\n",
       "    <tr>\n",
       "      <td>21</td>\n",
       "      <td>x2_Yes</td>\n",
       "      <td>0.025616</td>\n",
       "    </tr>\n",
       "    <tr>\n",
       "      <td>26</td>\n",
       "      <td>x7_Yes</td>\n",
       "      <td>0.023652</td>\n",
       "    </tr>\n",
       "    <tr>\n",
       "      <td>22</td>\n",
       "      <td>x3_Yes</td>\n",
       "      <td>0.023140</td>\n",
       "    </tr>\n",
       "    <tr>\n",
       "      <td>36</td>\n",
       "      <td>x17_Yes</td>\n",
       "      <td>0.022315</td>\n",
       "    </tr>\n",
       "    <tr>\n",
       "      <td>32</td>\n",
       "      <td>x13_Yes</td>\n",
       "      <td>0.021908</td>\n",
       "    </tr>\n",
       "    <tr>\n",
       "      <td>39</td>\n",
       "      <td>year</td>\n",
       "      <td>0.018757</td>\n",
       "    </tr>\n",
       "    <tr>\n",
       "      <td>8</td>\n",
       "      <td>x1_farmer</td>\n",
       "      <td>0.016837</td>\n",
       "    </tr>\n",
       "    <tr>\n",
       "      <td>33</td>\n",
       "      <td>x14_Yes</td>\n",
       "      <td>0.016803</td>\n",
       "    </tr>\n",
       "    <tr>\n",
       "      <td>6</td>\n",
       "      <td>x1_doctor/health care</td>\n",
       "      <td>0.014699</td>\n",
       "    </tr>\n",
       "    <tr>\n",
       "      <td>18</td>\n",
       "      <td>x1_tradesman/craftsman</td>\n",
       "      <td>0.014694</td>\n",
       "    </tr>\n",
       "    <tr>\n",
       "      <td>25</td>\n",
       "      <td>x6_Yes</td>\n",
       "      <td>0.014136</td>\n",
       "    </tr>\n",
       "    <tr>\n",
       "      <td>19</td>\n",
       "      <td>x1_unemployed</td>\n",
       "      <td>0.012243</td>\n",
       "    </tr>\n",
       "    <tr>\n",
       "      <td>10</td>\n",
       "      <td>x1_lawyer</td>\n",
       "      <td>0.009266</td>\n",
       "    </tr>\n",
       "    <tr>\n",
       "      <td>20</td>\n",
       "      <td>x1_writer</td>\n",
       "      <td>0.008972</td>\n",
       "    </tr>\n",
       "    <tr>\n",
       "      <td>9</td>\n",
       "      <td>x1_homemaker</td>\n",
       "      <td>0.007724</td>\n",
       "    </tr>\n",
       "    <tr>\n",
       "      <td>5</td>\n",
       "      <td>x1_customer service</td>\n",
       "      <td>0.007535</td>\n",
       "    </tr>\n",
       "    <tr>\n",
       "      <td>13</td>\n",
       "      <td>x1_retired</td>\n",
       "      <td>0.006818</td>\n",
       "    </tr>\n",
       "    <tr>\n",
       "      <td>3</td>\n",
       "      <td>x1_clerical/admin</td>\n",
       "      <td>0.006264</td>\n",
       "    </tr>\n",
       "    <tr>\n",
       "      <td>2</td>\n",
       "      <td>x1_artist</td>\n",
       "      <td>0.005822</td>\n",
       "    </tr>\n",
       "    <tr>\n",
       "      <td>16</td>\n",
       "      <td>x1_self-employed</td>\n",
       "      <td>0.005808</td>\n",
       "    </tr>\n",
       "    <tr>\n",
       "      <td>15</td>\n",
       "      <td>x1_scientist</td>\n",
       "      <td>0.005759</td>\n",
       "    </tr>\n",
       "    <tr>\n",
       "      <td>0</td>\n",
       "      <td>x0_M</td>\n",
       "      <td>0.005185</td>\n",
       "    </tr>\n",
       "    <tr>\n",
       "      <td>14</td>\n",
       "      <td>x1_sales/marketing</td>\n",
       "      <td>0.004989</td>\n",
       "    </tr>\n",
       "    <tr>\n",
       "      <td>1</td>\n",
       "      <td>x1_academic/educator</td>\n",
       "      <td>0.004754</td>\n",
       "    </tr>\n",
       "    <tr>\n",
       "      <td>40</td>\n",
       "      <td>Age_low</td>\n",
       "      <td>0.004739</td>\n",
       "    </tr>\n",
       "    <tr>\n",
       "      <td>17</td>\n",
       "      <td>x1_technician/engineer</td>\n",
       "      <td>0.004301</td>\n",
       "    </tr>\n",
       "    <tr>\n",
       "      <td>12</td>\n",
       "      <td>x1_programmer</td>\n",
       "      <td>0.004182</td>\n",
       "    </tr>\n",
       "    <tr>\n",
       "      <td>11</td>\n",
       "      <td>x1_other</td>\n",
       "      <td>0.003771</td>\n",
       "    </tr>\n",
       "    <tr>\n",
       "      <td>7</td>\n",
       "      <td>x1_executive/managerial</td>\n",
       "      <td>0.003458</td>\n",
       "    </tr>\n",
       "    <tr>\n",
       "      <td>4</td>\n",
       "      <td>x1_college/grad student</td>\n",
       "      <td>0.003137</td>\n",
       "    </tr>\n",
       "    <tr>\n",
       "      <td>41</td>\n",
       "      <td>Age_high</td>\n",
       "      <td>0.000000</td>\n",
       "    </tr>\n",
       "  </tbody>\n",
       "</table>\n",
       "</div>"
      ],
      "text/plain": [
       "               Feature Name  Feature_IMP\n",
       "31                  x12_Yes     0.170525\n",
       "28                   x9_Yes     0.093290\n",
       "27                   x8_Yes     0.082686\n",
       "30                  x11_Yes     0.060229\n",
       "24                   x5_Yes     0.056444\n",
       "23                   x4_Yes     0.051308\n",
       "37                  x18_Yes     0.041304\n",
       "34                  x15_Yes     0.032774\n",
       "35                  x16_Yes     0.029892\n",
       "29                  x10_Yes     0.027705\n",
       "38                  x19_Yes     0.026561\n",
       "21                   x2_Yes     0.025616\n",
       "26                   x7_Yes     0.023652\n",
       "22                   x3_Yes     0.023140\n",
       "36                  x17_Yes     0.022315\n",
       "32                  x13_Yes     0.021908\n",
       "39                     year     0.018757\n",
       "8                 x1_farmer     0.016837\n",
       "33                  x14_Yes     0.016803\n",
       "6     x1_doctor/health care     0.014699\n",
       "18   x1_tradesman/craftsman     0.014694\n",
       "25                   x6_Yes     0.014136\n",
       "19            x1_unemployed     0.012243\n",
       "10                x1_lawyer     0.009266\n",
       "20                x1_writer     0.008972\n",
       "9              x1_homemaker     0.007724\n",
       "5       x1_customer service     0.007535\n",
       "13               x1_retired     0.006818\n",
       "3         x1_clerical/admin     0.006264\n",
       "2                 x1_artist     0.005822\n",
       "16         x1_self-employed     0.005808\n",
       "15             x1_scientist     0.005759\n",
       "0                      x0_M     0.005185\n",
       "14       x1_sales/marketing     0.004989\n",
       "1      x1_academic/educator     0.004754\n",
       "40                  Age_low     0.004739\n",
       "17   x1_technician/engineer     0.004301\n",
       "12            x1_programmer     0.004182\n",
       "11                 x1_other     0.003771\n",
       "7   x1_executive/managerial     0.003458\n",
       "4   x1_college/grad student     0.003137\n",
       "41                 Age_high     0.000000"
      ]
     },
     "execution_count": 92,
     "metadata": {},
     "output_type": "execute_result"
    }
   ],
   "source": [
    "pd.DataFrame({'Feature Name':x_train.columns,'Feature_IMP':model.feature_importances_}).sort_values(by='Feature_IMP',ascending=False)"
   ]
  },
  {
   "cell_type": "code",
   "execution_count": null,
   "metadata": {},
   "outputs": [],
   "source": []
  }
 ],
 "metadata": {
  "kernelspec": {
   "display_name": "Python 3",
   "language": "python",
   "name": "python3"
  },
  "language_info": {
   "codemirror_mode": {
    "name": "ipython",
    "version": 3
   },
   "file_extension": ".py",
   "mimetype": "text/x-python",
   "name": "python",
   "nbconvert_exporter": "python",
   "pygments_lexer": "ipython3",
   "version": "3.7.4"
  }
 },
 "nbformat": 4,
 "nbformat_minor": 2
}
